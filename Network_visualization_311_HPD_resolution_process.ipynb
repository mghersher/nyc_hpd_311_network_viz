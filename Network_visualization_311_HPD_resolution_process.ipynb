{
 "cells": [
  {
   "cell_type": "code",
   "execution_count": 1,
   "metadata": {},
   "outputs": [],
   "source": [
    "import pandas as pd\n",
    "import networkx as nx\n",
    "import matplotlib.pyplot as plt\n",
    "\n",
    "import plotly.offline as py\n",
    "import plotly.graph_objects as go\n",
    "from sklearn import preprocessing\n",
    "import chart_studio\n",
    "import chart_studio.tools as tls\n",
    "import chart_studio.plotly as py\n"
   ]
  },
  {
   "cell_type": "code",
   "execution_count": null,
   "metadata": {},
   "outputs": [],
   "source": [
    "pd.set_option('display.max_rows', 500)\n",
    "pd.set_option('display.max_columns', 50)\n",
    "pd.options.display.max_colwidth = 2000"
   ]
  },
  {
   "cell_type": "code",
   "execution_count": null,
   "metadata": {},
   "outputs": [],
   "source": [
    "with open('credentials.json') as f:\n",
    "    credentials = json.load(f)\n",
    "    \n",
    "username = credentials['username'] # your username\n",
    "api_key = credentials['api_key'] #your plotly api key\n",
    "chart_studio.tools.set_credentials_file(username=username, api_key=api_key)"
   ]
  },
  {
   "cell_type": "markdown",
   "metadata": {},
   "source": [
    "### Read in cleaned and tokenized 311 HPD claims"
   ]
  },
  {
   "cell_type": "code",
   "execution_count": null,
   "metadata": {},
   "outputs": [],
   "source": [
    "df_311_wide = pd.read_csv(\"data/HPD_311_all_cleaned_tagged.csv\", dtype = {'incident_zip_str':'str', }, parse_dates = ['created_date', 'closed_date', 'resolution_action_updated_date'])\n",
    "print(df_311_wide.shape)"
   ]
  },
  {
   "cell_type": "code",
   "execution_count": null,
   "metadata": {},
   "outputs": [],
   "source": [
    "#Creating separate dataset to analyze so that if I later want to drop anything I easily can\n",
    "to_analyze = df_311_wide.copy()"
   ]
  },
  {
   "cell_type": "markdown",
   "metadata": {},
   "source": [
    "### Create source/target dataframe from the process and outcome tokens\n",
    "- source/target define the source and target of each edge\n",
    "- num_records will be the edge weight\n",
    "- token_type source defines whether the source node is a process or outcome node\n",
    "\n",
    "**By changing the process_variable and outcome_variable you can change the complexity of the network created**"
   ]
  },
  {
   "cell_type": "code",
   "execution_count": 66,
   "metadata": {},
   "outputs": [],
   "source": [
    "variables_to_plot = {'ungrouped':('ultimate_outcome', 'ultimate_process'), 'grouped':('grouped_ultimate_outcome', 'grouped_ultimate_process')}\n",
    "\n",
    "which_variable = 'ungrouped' #Change this to change which set of variables you want to plot from variables to plot\n",
    "process_variable = variables_to_plot[which_variable][0]\n",
    "outcome_variable = variables_to_plot[which_variable][1]"
   ]
  },
  {
   "cell_type": "code",
   "execution_count": 67,
   "metadata": {},
   "outputs": [
    {
     "data": {
      "text/html": [
       "<div>\n",
       "<style scoped>\n",
       "    .dataframe tbody tr th:only-of-type {\n",
       "        vertical-align: middle;\n",
       "    }\n",
       "\n",
       "    .dataframe tbody tr th {\n",
       "        vertical-align: top;\n",
       "    }\n",
       "\n",
       "    .dataframe thead th {\n",
       "        text-align: right;\n",
       "    }\n",
       "</style>\n",
       "<table border=\"1\" class=\"dataframe\">\n",
       "  <thead>\n",
       "    <tr style=\"text-align: right;\">\n",
       "      <th></th>\n",
       "      <th>source</th>\n",
       "      <th>target</th>\n",
       "      <th>num_records</th>\n",
       "      <th>token_type_source</th>\n",
       "    </tr>\n",
       "  </thead>\n",
       "  <tbody>\n",
       "    <tr>\n",
       "      <th>0</th>\n",
       "      <td>CLOSED THIS COMPLAINT ADMINISTRATIVELY</td>\n",
       "      <td>RESOLUTION PROCESS UNKNOWN</td>\n",
       "      <td>24530</td>\n",
       "      <td>process</td>\n",
       "    </tr>\n",
       "    <tr>\n",
       "      <th>1</th>\n",
       "      <td>COMPLAINT CONDITIONS ARE STILL OPEN</td>\n",
       "      <td>RESOLUTION PROCESS UNKNOWN</td>\n",
       "      <td>81461</td>\n",
       "      <td>process</td>\n",
       "    </tr>\n",
       "    <tr>\n",
       "      <th>2</th>\n",
       "      <td>COMPLAINT WAS ADDRESSED</td>\n",
       "      <td>CONTACTED AN OCCUPANT</td>\n",
       "      <td>12298</td>\n",
       "      <td>process</td>\n",
       "    </tr>\n",
       "    <tr>\n",
       "      <th>3</th>\n",
       "      <td>CONDITIONS WERE CORRECTED</td>\n",
       "      <td>CONTACTED A TENANT</td>\n",
       "      <td>686980</td>\n",
       "      <td>process</td>\n",
       "    </tr>\n",
       "    <tr>\n",
       "      <th>4</th>\n",
       "      <td>DID NOT HAVE ENOUGH TIME TO INSPECT</td>\n",
       "      <td>ATTEMPTED AND FAILED TO INVESTIGATE ORIGINAL PROPERTY</td>\n",
       "      <td>13</td>\n",
       "      <td>process</td>\n",
       "    </tr>\n",
       "    <tr>\n",
       "      <th>5</th>\n",
       "      <td>IDENTIFIED POTENTIAL LEAD</td>\n",
       "      <td>RESOLUTION PROCESS UNKNOWN</td>\n",
       "      <td>38759</td>\n",
       "      <td>process</td>\n",
       "    </tr>\n",
       "    <tr>\n",
       "      <th>6</th>\n",
       "      <td>LITERATURE HAS BEEN MAILED</td>\n",
       "      <td>LITERATURE PREPARATION</td>\n",
       "      <td>33113</td>\n",
       "      <td>process</td>\n",
       "    </tr>\n",
       "    <tr>\n",
       "      <th>7</th>\n",
       "      <td>LITERATURE WILL BE EMAILED WITHIN 24 HOURS</td>\n",
       "      <td>LITERATURE PREPARATION</td>\n",
       "      <td>18058</td>\n",
       "      <td>process</td>\n",
       "    </tr>\n",
       "    <tr>\n",
       "      <th>8</th>\n",
       "      <td>NO VIOLATIONS WERE ISSUED</td>\n",
       "      <td>AT THE TIME OF THE INSPECTION</td>\n",
       "      <td>3822</td>\n",
       "      <td>process</td>\n",
       "    </tr>\n",
       "    <tr>\n",
       "      <th>9</th>\n",
       "      <td>NO VIOLATIONS WERE ISSUED</td>\n",
       "      <td>ATTEMPTED AND FAILED TO INVESTIGATE ORIGINAL PROPERTY</td>\n",
       "      <td>15017</td>\n",
       "      <td>process</td>\n",
       "    </tr>\n",
       "    <tr>\n",
       "      <th>10</th>\n",
       "      <td>NO VIOLATIONS WERE ISSUED</td>\n",
       "      <td>INSPECTED THE FOLLOWING CONDITIONS</td>\n",
       "      <td>1764283</td>\n",
       "      <td>process</td>\n",
       "    </tr>\n",
       "    <tr>\n",
       "      <th>11</th>\n",
       "      <td>NOT ABLE TO GAIN ACCESS</td>\n",
       "      <td>ATTEMPTED AND FAILED TO INVESTIGATE ORIGINAL PROPERTY</td>\n",
       "      <td>1229245</td>\n",
       "      <td>process</td>\n",
       "    </tr>\n",
       "    <tr>\n",
       "      <th>12</th>\n",
       "      <td>ORIGINAL COMPLAINT IS STILL OPEN</td>\n",
       "      <td>RESOLUTION PROCESS UNKNOWN</td>\n",
       "      <td>498025</td>\n",
       "      <td>process</td>\n",
       "    </tr>\n",
       "    <tr>\n",
       "      <th>13</th>\n",
       "      <td>OUTCOME UNKNOWN CLOSED</td>\n",
       "      <td>CONDUCTED OR ATTEMPTED TO CONDUCT AN INSPECTION</td>\n",
       "      <td>82569</td>\n",
       "      <td>process</td>\n",
       "    </tr>\n",
       "    <tr>\n",
       "      <th>14</th>\n",
       "      <td>OUTCOME UNKNOWN CLOSED</td>\n",
       "      <td>RESOLUTION PROCESS UNKNOWN</td>\n",
       "      <td>582</td>\n",
       "      <td>process</td>\n",
       "    </tr>\n",
       "    <tr>\n",
       "      <th>15</th>\n",
       "      <td>RESTORED</td>\n",
       "      <td>ADVISED BY A TENANT IN THE BUILDING</td>\n",
       "      <td>433702</td>\n",
       "      <td>process</td>\n",
       "    </tr>\n",
       "    <tr>\n",
       "      <th>16</th>\n",
       "      <td>SECTION 8 FAILURE WAS ISSUED</td>\n",
       "      <td>INSPECTED THE FOLLOWING CONDITIONS</td>\n",
       "      <td>278</td>\n",
       "      <td>process</td>\n",
       "    </tr>\n",
       "    <tr>\n",
       "      <th>17</th>\n",
       "      <td>VIOLATION WAS ISSUED</td>\n",
       "      <td>ATTEMPTED AND FAILED TO INVESTIGATE ORIGINAL PROPERTY</td>\n",
       "      <td>5687</td>\n",
       "      <td>process</td>\n",
       "    </tr>\n",
       "    <tr>\n",
       "      <th>18</th>\n",
       "      <td>VIOLATION WAS ISSUED</td>\n",
       "      <td>BY INSPECTING ANOTHER APARTMENT</td>\n",
       "      <td>5235</td>\n",
       "      <td>process</td>\n",
       "    </tr>\n",
       "    <tr>\n",
       "      <th>19</th>\n",
       "      <td>VIOLATIONS WERE ISSUED</td>\n",
       "      <td>INSPECTED THE FOLLOWING CONDITIONS</td>\n",
       "      <td>1056589</td>\n",
       "      <td>process</td>\n",
       "    </tr>\n",
       "    <tr>\n",
       "      <th>20</th>\n",
       "      <td>VIOLATIONS WERE PREVIOUSLY ISSUED</td>\n",
       "      <td>INSPECTED THE FOLLOWING CONDITIONS</td>\n",
       "      <td>132570</td>\n",
       "      <td>process</td>\n",
       "    </tr>\n",
       "    <tr>\n",
       "      <th>21</th>\n",
       "      <td>RESOLUTION PROCESS UNKNOWN</td>\n",
       "      <td>CLOSED THIS COMPLAINT ADMINISTRATIVELY</td>\n",
       "      <td>24530</td>\n",
       "      <td>outcome</td>\n",
       "    </tr>\n",
       "    <tr>\n",
       "      <th>22</th>\n",
       "      <td>RESOLUTION PROCESS UNKNOWN</td>\n",
       "      <td>COMPLAINT CONDITIONS ARE STILL OPEN</td>\n",
       "      <td>81461</td>\n",
       "      <td>outcome</td>\n",
       "    </tr>\n",
       "    <tr>\n",
       "      <th>23</th>\n",
       "      <td>CONTACTED AN OCCUPANT</td>\n",
       "      <td>COMPLAINT WAS ADDRESSED</td>\n",
       "      <td>12298</td>\n",
       "      <td>outcome</td>\n",
       "    </tr>\n",
       "    <tr>\n",
       "      <th>24</th>\n",
       "      <td>CONTACTED A TENANT</td>\n",
       "      <td>CONDITIONS WERE CORRECTED</td>\n",
       "      <td>686980</td>\n",
       "      <td>outcome</td>\n",
       "    </tr>\n",
       "    <tr>\n",
       "      <th>25</th>\n",
       "      <td>ATTEMPTED AND FAILED TO INVESTIGATE ORIGINAL PROPERTY</td>\n",
       "      <td>DID NOT HAVE ENOUGH TIME TO INSPECT</td>\n",
       "      <td>13</td>\n",
       "      <td>outcome</td>\n",
       "    </tr>\n",
       "    <tr>\n",
       "      <th>26</th>\n",
       "      <td>RESOLUTION PROCESS UNKNOWN</td>\n",
       "      <td>IDENTIFIED POTENTIAL LEAD</td>\n",
       "      <td>38759</td>\n",
       "      <td>outcome</td>\n",
       "    </tr>\n",
       "    <tr>\n",
       "      <th>27</th>\n",
       "      <td>LITERATURE PREPARATION</td>\n",
       "      <td>LITERATURE HAS BEEN MAILED</td>\n",
       "      <td>33113</td>\n",
       "      <td>outcome</td>\n",
       "    </tr>\n",
       "    <tr>\n",
       "      <th>28</th>\n",
       "      <td>LITERATURE PREPARATION</td>\n",
       "      <td>LITERATURE WILL BE EMAILED WITHIN 24 HOURS</td>\n",
       "      <td>18058</td>\n",
       "      <td>outcome</td>\n",
       "    </tr>\n",
       "    <tr>\n",
       "      <th>29</th>\n",
       "      <td>AT THE TIME OF THE INSPECTION</td>\n",
       "      <td>NO VIOLATIONS WERE ISSUED</td>\n",
       "      <td>3822</td>\n",
       "      <td>outcome</td>\n",
       "    </tr>\n",
       "    <tr>\n",
       "      <th>30</th>\n",
       "      <td>ATTEMPTED AND FAILED TO INVESTIGATE ORIGINAL PROPERTY</td>\n",
       "      <td>NO VIOLATIONS WERE ISSUED</td>\n",
       "      <td>15017</td>\n",
       "      <td>outcome</td>\n",
       "    </tr>\n",
       "    <tr>\n",
       "      <th>31</th>\n",
       "      <td>INSPECTED THE FOLLOWING CONDITIONS</td>\n",
       "      <td>NO VIOLATIONS WERE ISSUED</td>\n",
       "      <td>1764283</td>\n",
       "      <td>outcome</td>\n",
       "    </tr>\n",
       "    <tr>\n",
       "      <th>32</th>\n",
       "      <td>ATTEMPTED AND FAILED TO INVESTIGATE ORIGINAL PROPERTY</td>\n",
       "      <td>NOT ABLE TO GAIN ACCESS</td>\n",
       "      <td>1229245</td>\n",
       "      <td>outcome</td>\n",
       "    </tr>\n",
       "    <tr>\n",
       "      <th>33</th>\n",
       "      <td>RESOLUTION PROCESS UNKNOWN</td>\n",
       "      <td>ORIGINAL COMPLAINT IS STILL OPEN</td>\n",
       "      <td>498025</td>\n",
       "      <td>outcome</td>\n",
       "    </tr>\n",
       "    <tr>\n",
       "      <th>34</th>\n",
       "      <td>CONDUCTED OR ATTEMPTED TO CONDUCT AN INSPECTION</td>\n",
       "      <td>OUTCOME UNKNOWN CLOSED</td>\n",
       "      <td>82569</td>\n",
       "      <td>outcome</td>\n",
       "    </tr>\n",
       "    <tr>\n",
       "      <th>35</th>\n",
       "      <td>RESOLUTION PROCESS UNKNOWN</td>\n",
       "      <td>OUTCOME UNKNOWN CLOSED</td>\n",
       "      <td>582</td>\n",
       "      <td>outcome</td>\n",
       "    </tr>\n",
       "    <tr>\n",
       "      <th>36</th>\n",
       "      <td>ADVISED BY A TENANT IN THE BUILDING</td>\n",
       "      <td>RESTORED</td>\n",
       "      <td>433702</td>\n",
       "      <td>outcome</td>\n",
       "    </tr>\n",
       "    <tr>\n",
       "      <th>37</th>\n",
       "      <td>INSPECTED THE FOLLOWING CONDITIONS</td>\n",
       "      <td>SECTION 8 FAILURE WAS ISSUED</td>\n",
       "      <td>278</td>\n",
       "      <td>outcome</td>\n",
       "    </tr>\n",
       "    <tr>\n",
       "      <th>38</th>\n",
       "      <td>ATTEMPTED AND FAILED TO INVESTIGATE ORIGINAL PROPERTY</td>\n",
       "      <td>VIOLATION WAS ISSUED</td>\n",
       "      <td>5687</td>\n",
       "      <td>outcome</td>\n",
       "    </tr>\n",
       "    <tr>\n",
       "      <th>39</th>\n",
       "      <td>BY INSPECTING ANOTHER APARTMENT</td>\n",
       "      <td>VIOLATION WAS ISSUED</td>\n",
       "      <td>5235</td>\n",
       "      <td>outcome</td>\n",
       "    </tr>\n",
       "    <tr>\n",
       "      <th>40</th>\n",
       "      <td>INSPECTED THE FOLLOWING CONDITIONS</td>\n",
       "      <td>VIOLATIONS WERE ISSUED</td>\n",
       "      <td>1056589</td>\n",
       "      <td>outcome</td>\n",
       "    </tr>\n",
       "    <tr>\n",
       "      <th>41</th>\n",
       "      <td>INSPECTED THE FOLLOWING CONDITIONS</td>\n",
       "      <td>VIOLATIONS WERE PREVIOUSLY ISSUED</td>\n",
       "      <td>132570</td>\n",
       "      <td>outcome</td>\n",
       "    </tr>\n",
       "  </tbody>\n",
       "</table>\n",
       "</div>"
      ],
      "text/plain": [
       "                                                   source  \\\n",
       "0                  CLOSED THIS COMPLAINT ADMINISTRATIVELY   \n",
       "1                     COMPLAINT CONDITIONS ARE STILL OPEN   \n",
       "2                                 COMPLAINT WAS ADDRESSED   \n",
       "3                               CONDITIONS WERE CORRECTED   \n",
       "4                     DID NOT HAVE ENOUGH TIME TO INSPECT   \n",
       "5                               IDENTIFIED POTENTIAL LEAD   \n",
       "6                              LITERATURE HAS BEEN MAILED   \n",
       "7              LITERATURE WILL BE EMAILED WITHIN 24 HOURS   \n",
       "8                               NO VIOLATIONS WERE ISSUED   \n",
       "9                               NO VIOLATIONS WERE ISSUED   \n",
       "10                              NO VIOLATIONS WERE ISSUED   \n",
       "11                                NOT ABLE TO GAIN ACCESS   \n",
       "12                       ORIGINAL COMPLAINT IS STILL OPEN   \n",
       "13                                 OUTCOME UNKNOWN CLOSED   \n",
       "14                                 OUTCOME UNKNOWN CLOSED   \n",
       "15                                               RESTORED   \n",
       "16                           SECTION 8 FAILURE WAS ISSUED   \n",
       "17                                   VIOLATION WAS ISSUED   \n",
       "18                                   VIOLATION WAS ISSUED   \n",
       "19                                 VIOLATIONS WERE ISSUED   \n",
       "20                      VIOLATIONS WERE PREVIOUSLY ISSUED   \n",
       "21                             RESOLUTION PROCESS UNKNOWN   \n",
       "22                             RESOLUTION PROCESS UNKNOWN   \n",
       "23                                  CONTACTED AN OCCUPANT   \n",
       "24                                     CONTACTED A TENANT   \n",
       "25  ATTEMPTED AND FAILED TO INVESTIGATE ORIGINAL PROPERTY   \n",
       "26                             RESOLUTION PROCESS UNKNOWN   \n",
       "27                                 LITERATURE PREPARATION   \n",
       "28                                 LITERATURE PREPARATION   \n",
       "29                          AT THE TIME OF THE INSPECTION   \n",
       "30  ATTEMPTED AND FAILED TO INVESTIGATE ORIGINAL PROPERTY   \n",
       "31                     INSPECTED THE FOLLOWING CONDITIONS   \n",
       "32  ATTEMPTED AND FAILED TO INVESTIGATE ORIGINAL PROPERTY   \n",
       "33                             RESOLUTION PROCESS UNKNOWN   \n",
       "34        CONDUCTED OR ATTEMPTED TO CONDUCT AN INSPECTION   \n",
       "35                             RESOLUTION PROCESS UNKNOWN   \n",
       "36                    ADVISED BY A TENANT IN THE BUILDING   \n",
       "37                     INSPECTED THE FOLLOWING CONDITIONS   \n",
       "38  ATTEMPTED AND FAILED TO INVESTIGATE ORIGINAL PROPERTY   \n",
       "39                        BY INSPECTING ANOTHER APARTMENT   \n",
       "40                     INSPECTED THE FOLLOWING CONDITIONS   \n",
       "41                     INSPECTED THE FOLLOWING CONDITIONS   \n",
       "\n",
       "                                                   target  num_records  \\\n",
       "0                              RESOLUTION PROCESS UNKNOWN        24530   \n",
       "1                              RESOLUTION PROCESS UNKNOWN        81461   \n",
       "2                                   CONTACTED AN OCCUPANT        12298   \n",
       "3                                      CONTACTED A TENANT       686980   \n",
       "4   ATTEMPTED AND FAILED TO INVESTIGATE ORIGINAL PROPERTY           13   \n",
       "5                              RESOLUTION PROCESS UNKNOWN        38759   \n",
       "6                                  LITERATURE PREPARATION        33113   \n",
       "7                                  LITERATURE PREPARATION        18058   \n",
       "8                           AT THE TIME OF THE INSPECTION         3822   \n",
       "9   ATTEMPTED AND FAILED TO INVESTIGATE ORIGINAL PROPERTY        15017   \n",
       "10                     INSPECTED THE FOLLOWING CONDITIONS      1764283   \n",
       "11  ATTEMPTED AND FAILED TO INVESTIGATE ORIGINAL PROPERTY      1229245   \n",
       "12                             RESOLUTION PROCESS UNKNOWN       498025   \n",
       "13        CONDUCTED OR ATTEMPTED TO CONDUCT AN INSPECTION        82569   \n",
       "14                             RESOLUTION PROCESS UNKNOWN          582   \n",
       "15                    ADVISED BY A TENANT IN THE BUILDING       433702   \n",
       "16                     INSPECTED THE FOLLOWING CONDITIONS          278   \n",
       "17  ATTEMPTED AND FAILED TO INVESTIGATE ORIGINAL PROPERTY         5687   \n",
       "18                        BY INSPECTING ANOTHER APARTMENT         5235   \n",
       "19                     INSPECTED THE FOLLOWING CONDITIONS      1056589   \n",
       "20                     INSPECTED THE FOLLOWING CONDITIONS       132570   \n",
       "21                 CLOSED THIS COMPLAINT ADMINISTRATIVELY        24530   \n",
       "22                    COMPLAINT CONDITIONS ARE STILL OPEN        81461   \n",
       "23                                COMPLAINT WAS ADDRESSED        12298   \n",
       "24                              CONDITIONS WERE CORRECTED       686980   \n",
       "25                    DID NOT HAVE ENOUGH TIME TO INSPECT           13   \n",
       "26                              IDENTIFIED POTENTIAL LEAD        38759   \n",
       "27                             LITERATURE HAS BEEN MAILED        33113   \n",
       "28             LITERATURE WILL BE EMAILED WITHIN 24 HOURS        18058   \n",
       "29                              NO VIOLATIONS WERE ISSUED         3822   \n",
       "30                              NO VIOLATIONS WERE ISSUED        15017   \n",
       "31                              NO VIOLATIONS WERE ISSUED      1764283   \n",
       "32                                NOT ABLE TO GAIN ACCESS      1229245   \n",
       "33                       ORIGINAL COMPLAINT IS STILL OPEN       498025   \n",
       "34                                 OUTCOME UNKNOWN CLOSED        82569   \n",
       "35                                 OUTCOME UNKNOWN CLOSED          582   \n",
       "36                                               RESTORED       433702   \n",
       "37                           SECTION 8 FAILURE WAS ISSUED          278   \n",
       "38                                   VIOLATION WAS ISSUED         5687   \n",
       "39                                   VIOLATION WAS ISSUED         5235   \n",
       "40                                 VIOLATIONS WERE ISSUED      1056589   \n",
       "41                      VIOLATIONS WERE PREVIOUSLY ISSUED       132570   \n",
       "\n",
       "   token_type_source  \n",
       "0            process  \n",
       "1            process  \n",
       "2            process  \n",
       "3            process  \n",
       "4            process  \n",
       "5            process  \n",
       "6            process  \n",
       "7            process  \n",
       "8            process  \n",
       "9            process  \n",
       "10           process  \n",
       "11           process  \n",
       "12           process  \n",
       "13           process  \n",
       "14           process  \n",
       "15           process  \n",
       "16           process  \n",
       "17           process  \n",
       "18           process  \n",
       "19           process  \n",
       "20           process  \n",
       "21           outcome  \n",
       "22           outcome  \n",
       "23           outcome  \n",
       "24           outcome  \n",
       "25           outcome  \n",
       "26           outcome  \n",
       "27           outcome  \n",
       "28           outcome  \n",
       "29           outcome  \n",
       "30           outcome  \n",
       "31           outcome  \n",
       "32           outcome  \n",
       "33           outcome  \n",
       "34           outcome  \n",
       "35           outcome  \n",
       "36           outcome  \n",
       "37           outcome  \n",
       "38           outcome  \n",
       "39           outcome  \n",
       "40           outcome  \n",
       "41           outcome  "
      ]
     },
     "execution_count": 67,
     "metadata": {},
     "output_type": "execute_result"
    }
   ],
   "source": [
    "#Grouped process and outcome tags\n",
    "df_by_process_outcome = pd.DataFrame(to_analyze.groupby([process_variable, outcome_variable])['unique_key'].nunique()).reset_index()\n",
    "df_by_process_outcome.columns = ['source', 'target', 'num_records']\n",
    "df_by_process_outcome['token_type_source'] = 'process'\n",
    "\n",
    "#Create opposite set to have all pairwise combinations listed in both directions\n",
    "df_by_process_outcome_bidirectional = df_by_process_outcome[['target', 'source', 'num_records']]\n",
    "df_by_process_outcome_bidirectional.columns = ['source', 'target', 'num_records']\n",
    "df_by_process_outcome_bidirectional['token_type_source'] = 'outcome'\n",
    "\n",
    "#Concatenate\n",
    "df_by_process_outcome_grouped = pd.concat([df_by_process_outcome, df_by_process_outcome_bidirectional], axis = 0, ignore_index = True)\n",
    "\n",
    "df_by_process_outcome_grouped"
   ]
  },
  {
   "cell_type": "code",
   "execution_count": 68,
   "metadata": {},
   "outputs": [
    {
     "data": {
      "text/html": [
       "<div>\n",
       "<style scoped>\n",
       "    .dataframe tbody tr th:only-of-type {\n",
       "        vertical-align: middle;\n",
       "    }\n",
       "\n",
       "    .dataframe tbody tr th {\n",
       "        vertical-align: top;\n",
       "    }\n",
       "\n",
       "    .dataframe thead th {\n",
       "        text-align: right;\n",
       "    }\n",
       "</style>\n",
       "<table border=\"1\" class=\"dataframe\">\n",
       "  <thead>\n",
       "    <tr style=\"text-align: right;\">\n",
       "      <th></th>\n",
       "      <th>token</th>\n",
       "      <th>type_token</th>\n",
       "    </tr>\n",
       "  </thead>\n",
       "  <tbody>\n",
       "    <tr>\n",
       "      <th>0</th>\n",
       "      <td>CLOSED THIS COMPLAINT ADMINISTRATIVELY</td>\n",
       "      <td>process</td>\n",
       "    </tr>\n",
       "    <tr>\n",
       "      <th>1</th>\n",
       "      <td>COMPLAINT CONDITIONS ARE STILL OPEN</td>\n",
       "      <td>process</td>\n",
       "    </tr>\n",
       "    <tr>\n",
       "      <th>2</th>\n",
       "      <td>COMPLAINT WAS ADDRESSED</td>\n",
       "      <td>process</td>\n",
       "    </tr>\n",
       "    <tr>\n",
       "      <th>3</th>\n",
       "      <td>CONDITIONS WERE CORRECTED</td>\n",
       "      <td>process</td>\n",
       "    </tr>\n",
       "    <tr>\n",
       "      <th>4</th>\n",
       "      <td>DID NOT HAVE ENOUGH TIME TO INSPECT</td>\n",
       "      <td>process</td>\n",
       "    </tr>\n",
       "    <tr>\n",
       "      <th>5</th>\n",
       "      <td>IDENTIFIED POTENTIAL LEAD</td>\n",
       "      <td>process</td>\n",
       "    </tr>\n",
       "    <tr>\n",
       "      <th>6</th>\n",
       "      <td>LITERATURE HAS BEEN MAILED</td>\n",
       "      <td>process</td>\n",
       "    </tr>\n",
       "    <tr>\n",
       "      <th>7</th>\n",
       "      <td>LITERATURE WILL BE EMAILED WITHIN 24 HOURS</td>\n",
       "      <td>process</td>\n",
       "    </tr>\n",
       "    <tr>\n",
       "      <th>8</th>\n",
       "      <td>NO VIOLATIONS WERE ISSUED</td>\n",
       "      <td>process</td>\n",
       "    </tr>\n",
       "    <tr>\n",
       "      <th>9</th>\n",
       "      <td>NOT ABLE TO GAIN ACCESS</td>\n",
       "      <td>process</td>\n",
       "    </tr>\n",
       "    <tr>\n",
       "      <th>10</th>\n",
       "      <td>ORIGINAL COMPLAINT IS STILL OPEN</td>\n",
       "      <td>process</td>\n",
       "    </tr>\n",
       "    <tr>\n",
       "      <th>11</th>\n",
       "      <td>OUTCOME UNKNOWN CLOSED</td>\n",
       "      <td>process</td>\n",
       "    </tr>\n",
       "    <tr>\n",
       "      <th>12</th>\n",
       "      <td>RESTORED</td>\n",
       "      <td>process</td>\n",
       "    </tr>\n",
       "    <tr>\n",
       "      <th>13</th>\n",
       "      <td>SECTION 8 FAILURE WAS ISSUED</td>\n",
       "      <td>process</td>\n",
       "    </tr>\n",
       "    <tr>\n",
       "      <th>14</th>\n",
       "      <td>VIOLATION WAS ISSUED</td>\n",
       "      <td>process</td>\n",
       "    </tr>\n",
       "    <tr>\n",
       "      <th>15</th>\n",
       "      <td>VIOLATIONS WERE ISSUED</td>\n",
       "      <td>process</td>\n",
       "    </tr>\n",
       "    <tr>\n",
       "      <th>16</th>\n",
       "      <td>VIOLATIONS WERE PREVIOUSLY ISSUED</td>\n",
       "      <td>process</td>\n",
       "    </tr>\n",
       "    <tr>\n",
       "      <th>17</th>\n",
       "      <td>RESOLUTION PROCESS UNKNOWN</td>\n",
       "      <td>outcome</td>\n",
       "    </tr>\n",
       "    <tr>\n",
       "      <th>18</th>\n",
       "      <td>CONTACTED AN OCCUPANT</td>\n",
       "      <td>outcome</td>\n",
       "    </tr>\n",
       "    <tr>\n",
       "      <th>19</th>\n",
       "      <td>CONTACTED A TENANT</td>\n",
       "      <td>outcome</td>\n",
       "    </tr>\n",
       "    <tr>\n",
       "      <th>20</th>\n",
       "      <td>ATTEMPTED AND FAILED TO INVESTIGATE ORIGINAL PROPERTY</td>\n",
       "      <td>outcome</td>\n",
       "    </tr>\n",
       "    <tr>\n",
       "      <th>21</th>\n",
       "      <td>LITERATURE PREPARATION</td>\n",
       "      <td>outcome</td>\n",
       "    </tr>\n",
       "    <tr>\n",
       "      <th>22</th>\n",
       "      <td>AT THE TIME OF THE INSPECTION</td>\n",
       "      <td>outcome</td>\n",
       "    </tr>\n",
       "    <tr>\n",
       "      <th>23</th>\n",
       "      <td>INSPECTED THE FOLLOWING CONDITIONS</td>\n",
       "      <td>outcome</td>\n",
       "    </tr>\n",
       "    <tr>\n",
       "      <th>24</th>\n",
       "      <td>CONDUCTED OR ATTEMPTED TO CONDUCT AN INSPECTION</td>\n",
       "      <td>outcome</td>\n",
       "    </tr>\n",
       "    <tr>\n",
       "      <th>25</th>\n",
       "      <td>ADVISED BY A TENANT IN THE BUILDING</td>\n",
       "      <td>outcome</td>\n",
       "    </tr>\n",
       "    <tr>\n",
       "      <th>26</th>\n",
       "      <td>BY INSPECTING ANOTHER APARTMENT</td>\n",
       "      <td>outcome</td>\n",
       "    </tr>\n",
       "  </tbody>\n",
       "</table>\n",
       "</div>"
      ],
      "text/plain": [
       "                                                    token type_token\n",
       "0                  CLOSED THIS COMPLAINT ADMINISTRATIVELY    process\n",
       "1                     COMPLAINT CONDITIONS ARE STILL OPEN    process\n",
       "2                                 COMPLAINT WAS ADDRESSED    process\n",
       "3                               CONDITIONS WERE CORRECTED    process\n",
       "4                     DID NOT HAVE ENOUGH TIME TO INSPECT    process\n",
       "5                               IDENTIFIED POTENTIAL LEAD    process\n",
       "6                              LITERATURE HAS BEEN MAILED    process\n",
       "7              LITERATURE WILL BE EMAILED WITHIN 24 HOURS    process\n",
       "8                               NO VIOLATIONS WERE ISSUED    process\n",
       "9                                 NOT ABLE TO GAIN ACCESS    process\n",
       "10                       ORIGINAL COMPLAINT IS STILL OPEN    process\n",
       "11                                 OUTCOME UNKNOWN CLOSED    process\n",
       "12                                               RESTORED    process\n",
       "13                           SECTION 8 FAILURE WAS ISSUED    process\n",
       "14                                   VIOLATION WAS ISSUED    process\n",
       "15                                 VIOLATIONS WERE ISSUED    process\n",
       "16                      VIOLATIONS WERE PREVIOUSLY ISSUED    process\n",
       "17                             RESOLUTION PROCESS UNKNOWN    outcome\n",
       "18                                  CONTACTED AN OCCUPANT    outcome\n",
       "19                                     CONTACTED A TENANT    outcome\n",
       "20  ATTEMPTED AND FAILED TO INVESTIGATE ORIGINAL PROPERTY    outcome\n",
       "21                                 LITERATURE PREPARATION    outcome\n",
       "22                          AT THE TIME OF THE INSPECTION    outcome\n",
       "23                     INSPECTED THE FOLLOWING CONDITIONS    outcome\n",
       "24        CONDUCTED OR ATTEMPTED TO CONDUCT AN INSPECTION    outcome\n",
       "25                    ADVISED BY A TENANT IN THE BUILDING    outcome\n",
       "26                        BY INSPECTING ANOTHER APARTMENT    outcome"
      ]
     },
     "execution_count": 68,
     "metadata": {},
     "output_type": "execute_result"
    }
   ],
   "source": [
    "#Create a dictionary of all the tokens with their types - necessary for coloring the nodes\n",
    "tokens = list(df_by_process_outcome['source'].unique())\n",
    "type_tokens = ['process']*len((list(df_by_process_outcome['source'].unique())))\n",
    "                   \n",
    "tokens.extend(list(df_by_process_outcome['target'].unique()))\n",
    "type_tokens.extend(['outcome']*len((list(df_by_process_outcome['target'].unique()))))\n",
    "                   \n",
    "type_dict = pd.DataFrame({'token':tokens, 'type_token':type_tokens})\n",
    "type_dict"
   ]
  },
  {
   "cell_type": "markdown",
   "metadata": {},
   "source": [
    "### Scale the num_records to edge weights that will plot nicely"
   ]
  },
  {
   "cell_type": "code",
   "execution_count": 69,
   "metadata": {},
   "outputs": [
    {
     "name": "stdout",
     "output_type": "stream",
     "text": [
      "[1.055585596308955, 1.1846610779529212, 1.0278528796612765, 2.5575099049465218, 1.0, 1.0878459646199279, 1.075045202831766, 1.0409121052900068, 1.0086358663923323, 1.0340174689815052, 5.0, 3.7869475760512845, 2.1291060892040337, 1.1871731651051143, 1.0012900519761714, 1.9832712680031968, 1.0006008150679886, 1.012864244134968, 1.01183945767938, 3.3954972878300937, 1.3005367659145142, 1.055585596308955, 1.1846610779529212, 1.0278528796612765, 2.5575099049465218, 1.0, 1.0878459646199279, 1.075045202831766, 1.0409121052900068, 1.0086358663923323, 1.0340174689815052, 5.0, 3.7869475760512845, 2.1291060892040337, 1.1871731651051143, 1.0012900519761714, 1.9832712680031968, 1.0006008150679886, 1.012864244134968, 1.01183945767938, 3.3954972878300937, 1.3005367659145142]\n"
     ]
    }
   ],
   "source": [
    "#Scales weights linearly to between 1 and 5\n",
    "min_max_scaler = preprocessing.MinMaxScaler(feature_range=(1,5))\n",
    "transformed = min_max_scaler.fit_transform(df_by_process_outcome_grouped['num_records'].values.reshape(-1,1))\n",
    "transformed = [item[0] for item in transformed]\n",
    "df_by_process_outcome_grouped['weight'] = transformed\n",
    "print(transformed)"
   ]
  },
  {
   "cell_type": "markdown",
   "metadata": {},
   "source": [
    "### Create a Graph object in networkx library"
   ]
  },
  {
   "cell_type": "code",
   "execution_count": 70,
   "metadata": {},
   "outputs": [],
   "source": [
    "G = nx.from_pandas_edgelist(df_by_process_outcome_grouped, source='source', target='target',  edge_attr= True)"
   ]
  },
  {
   "cell_type": "markdown",
   "metadata": {},
   "source": [
    "### Plot basic network visualization to make sure graph object works\n"
   ]
  },
  {
   "cell_type": "code",
   "execution_count": 71,
   "metadata": {},
   "outputs": [
    {
     "data": {
      "image/png": "[encoded data removed]",
      "text/plain": [
       "<Figure size 432x288 with 1 Axes>"
      ]
     },
     "metadata": {},
     "output_type": "display_data"
    }
   ],
   "source": [
    "nx.draw(G)\n",
    "plt.draw()"
   ]
  },
  {
   "cell_type": "markdown",
   "metadata": {},
   "source": [
    "### Use plotly to create interactive and nicely formatted version of this network"
   ]
  },
  {
   "cell_type": "markdown",
   "metadata": {},
   "source": [
    "#### Calculate positions of nodes in G using specified layout\n",
    "- Also tried circular_layout, kamanda_kawai_layout, and bi-partite layout, but found spring layout to be best.\n",
    "\n",
    "*weight*: Specifies that the weight column should be used to weight the edges\n",
    "\n",
    "*k*: Controls the distance between nodes. NetworkX documentation explains that the optimal distance between nodes set to 1/sqrt(n) by default (this is .25 for the grouped graph), but I found nodes were crowding so I increased it.\n"
   ]
  },
  {
   "cell_type": "code",
   "execution_count": 72,
   "metadata": {},
   "outputs": [],
   "source": [
    "pos = nx.spring_layout(G, weight='weight', k=.33)"
   ]
  },
  {
   "cell_type": "markdown",
   "metadata": {},
   "source": [
    "### Format data to work in a plotly graph object\n",
    "\n",
    "Thanks to Rebecca Weng for her great blog post on this! You can find the original code that I've modified slightly for my purposes here: https://towardsdatascience.com/tutorial-network-visualization-basics-with-networkx-and-plotly-and-a-little-nlp-57c9bbb55bb9"
   ]
  },
  {
   "cell_type": "markdown",
   "metadata": {},
   "source": [
    "### Create a separate edge trace for each edge in order to end up with weighted edges\n",
    "Plotly doesn't natively allow for weighted edges"
   ]
  },
  {
   "cell_type": "code",
   "execution_count": 73,
   "metadata": {},
   "outputs": [],
   "source": [
    "# Custom function to create an edge between node x and node y, with a given text and width\n",
    "def make_edge(x, y, text, width):\n",
    "    return  go.Scatter(x = x,\n",
    "                       y = y,\n",
    "                       line = dict(width = width,\n",
    "                                   color = 'black'),\n",
    "                       hoverinfo = 'text',\n",
    "                       text = ([text]),\n",
    "                       mode = 'lines')\n",
    "\n",
    "# For each edge, make an edge_trace, append to list\n",
    "edge_trace = []\n",
    "for edge in G.edges():\n",
    "#     print(edge)\n",
    "#     print(G.edges()[edge]['weight'])\n",
    "    if G.edges()[edge]['weight'] > 0:\n",
    "        char_1 = edge[0]\n",
    "        char_2 = edge[1]\n",
    "    x0, y0 = pos[char_1]\n",
    "\n",
    "    x1, y1 = pos[char_2]\n",
    "    text = char_1 + '--' + char_2 + ': ' + str(G.edges()[edge]['weight'])\n",
    "\n",
    "    trace = make_edge([x0, x1, None], [y0, y1, None], text, width = G.edges()[edge]['weight'])\n",
    "    edge_trace.append(trace)"
   ]
  },
  {
   "cell_type": "markdown",
   "metadata": {},
   "source": [
    "### Create node trace"
   ]
  },
  {
   "cell_type": "code",
   "execution_count": 74,
   "metadata": {},
   "outputs": [],
   "source": [
    "node_x = []\n",
    "node_y = []\n",
    "node_names = []\n",
    "for node in G.nodes():\n",
    "    x, y = pos[node]\n",
    "    node_x.append(x)\n",
    "    node_y.append(y)\n",
    "    node_names.append(node)\n",
    "\n",
    "node_trace = go.Scatter(\n",
    "    x=node_x, y=node_y,\n",
    "    text=node_names,\n",
    "    mode='markers',\n",
    "    hoverinfo='text',\n",
    "    textposition = 'top center',\n",
    "    marker=dict(size=10,\n",
    "    line_width=2))"
   ]
  },
  {
   "cell_type": "markdown",
   "metadata": {},
   "source": [
    "### Color nodes by process/outcome"
   ]
  },
  {
   "cell_type": "code",
   "execution_count": 75,
   "metadata": {},
   "outputs": [
    {
     "name": "stdout",
     "output_type": "stream",
     "text": [
      "CLOSED THIS COMPLAINT ADMINISTRATIVELY\n",
      "RESOLUTION PROCESS UNKNOWN\n",
      "COMPLAINT CONDITIONS ARE STILL OPEN\n",
      "COMPLAINT WAS ADDRESSED\n",
      "CONTACTED AN OCCUPANT\n",
      "CONDITIONS WERE CORRECTED\n",
      "CONTACTED A TENANT\n",
      "DID NOT HAVE ENOUGH TIME TO INSPECT\n",
      "ATTEMPTED AND FAILED TO INVESTIGATE ORIGINAL PROPERTY\n",
      "IDENTIFIED POTENTIAL LEAD\n",
      "LITERATURE HAS BEEN MAILED\n",
      "LITERATURE PREPARATION\n",
      "LITERATURE WILL BE EMAILED WITHIN 24 HOURS\n",
      "NO VIOLATIONS WERE ISSUED\n",
      "AT THE TIME OF THE INSPECTION\n",
      "INSPECTED THE FOLLOWING CONDITIONS\n",
      "NOT ABLE TO GAIN ACCESS\n",
      "ORIGINAL COMPLAINT IS STILL OPEN\n",
      "OUTCOME UNKNOWN CLOSED\n",
      "CONDUCTED OR ATTEMPTED TO CONDUCT AN INSPECTION\n",
      "RESTORED\n",
      "ADVISED BY A TENANT IN THE BUILDING\n",
      "SECTION 8 FAILURE WAS ISSUED\n",
      "VIOLATION WAS ISSUED\n",
      "BY INSPECTING ANOTHER APARTMENT\n",
      "VIOLATIONS WERE ISSUED\n",
      "VIOLATIONS WERE PREVIOUSLY ISSUED\n"
     ]
    }
   ],
   "source": [
    "node_colors = []\n",
    "for node in node_names:\n",
    "    print(node)\n",
    "    type_val = type_dict[type_dict['token'] == node]['type_token'].iloc[0]\n",
    "    if type_val == 'process':\n",
    "        node_colors.append('#148E82')\n",
    "    elif type_val == 'outcome':\n",
    "        node_colors.append('#B53C09')\n",
    "        \n",
    "node_trace.marker.color = node_colors"
   ]
  },
  {
   "cell_type": "markdown",
   "metadata": {},
   "source": [
    "### Size nodes by number of records they are associated with"
   ]
  },
  {
   "cell_type": "code",
   "execution_count": 76,
   "metadata": {},
   "outputs": [
    {
     "name": "stdout",
     "output_type": "stream",
     "text": [
      "[20, 20, 20, 26, 20, 20, 20, 20, 38, 32, 25, 20, 24, 20, 20, 30, 21, 24, 20, 32, 20, 20, 26, 20, 50, 20, 26]\n"
     ]
    }
   ],
   "source": [
    "#Calculate the number of records that contain the token represented by each node (used to size node)\n",
    "num_records_by_node_process = pd.DataFrame(to_analyze.groupby([process_variable])['unique_key'].nunique()).reset_index()\n",
    "num_records_by_node_process.columns = ['node', 'num_records']\n",
    "\n",
    "num_records_by_node_outcome = pd.DataFrame(to_analyze.groupby([outcome_variable])['unique_key'].nunique()).reset_index()\n",
    "num_records_by_node_outcome.columns = ['node', 'num_records']\n",
    "\n",
    "#Concatenate\n",
    "num_records_by_node = pd.concat([num_records_by_node_process, num_records_by_node_outcome], ignore_index = True, sort = False)\n",
    "num_records_by_node.set_index('node', inplace = True)\n",
    "num_records_by_node.loc[node_names]\n",
    "num_records_by_node.reset_index(inplace = True)\n",
    "\n",
    "#Scales weights linearly to between 1 and 5\n",
    "min_max_scaler = preprocessing.MinMaxScaler(feature_range=(20,50))\n",
    "transformed_size = min_max_scaler.fit_transform(num_records_by_node['num_records'].values.reshape(-1,1))\n",
    "transformed_size = [int(item[0]) for item in transformed_size]\n",
    "num_records_by_node['node_size'] = transformed_size\n",
    "print(transformed_size)\n",
    "node_trace.marker.size = transformed_size"
   ]
  },
  {
   "cell_type": "markdown",
   "metadata": {},
   "source": [
    "### Plot the network"
   ]
  },
  {
   "cell_type": "code",
   "execution_count": 79,
   "metadata": {},
   "outputs": [
    {
     "data": {
      "application/vnd.plotly.v1+json": {
       "config": {
        "plotlyServerURL": "https://plotly.com"
       },
       "data": [
        {
         "hoverinfo": "text",
         "line": {
          "color": "black",
          "width": 1.055585596308955
         },
         "mode": "lines",
         "text": [
          "CLOSED THIS COMPLAINT ADMINISTRATIVELY--RESOLUTION PROCESS UNKNOWN: 1.055585596308955"
         ],
         "type": "scatter",
         "x": [
          -0.24629320487073436,
          -0.330549597631162,
          null
         ],
         "y": [
          0.9090976706699698,
          0.727124461280168,
          null
         ]
        },
        {
         "hoverinfo": "text",
         "line": {
          "color": "black",
          "width": 1.1846610779529212
         },
         "mode": "lines",
         "text": [
          "RESOLUTION PROCESS UNKNOWN--COMPLAINT CONDITIONS ARE STILL OPEN: 1.1846610779529212"
         ],
         "type": "scatter",
         "x": [
          -0.330549597631162,
          -0.4908408084394234,
          null
         ],
         "y": [
          0.727124461280168,
          0.8291033726754142,
          null
         ]
        },
        {
         "hoverinfo": "text",
         "line": {
          "color": "black",
          "width": 1.0878459646199279
         },
         "mode": "lines",
         "text": [
          "RESOLUTION PROCESS UNKNOWN--IDENTIFIED POTENTIAL LEAD: 1.0878459646199279"
         ],
         "type": "scatter",
         "x": [
          -0.330549597631162,
          -0.39148770945200445,
          null
         ],
         "y": [
          0.727124461280168,
          0.9318976722231356,
          null
         ]
        },
        {
         "hoverinfo": "text",
         "line": {
          "color": "black",
          "width": 2.1291060892040337
         },
         "mode": "lines",
         "text": [
          "RESOLUTION PROCESS UNKNOWN--ORIGINAL COMPLAINT IS STILL OPEN: 2.1291060892040337"
         ],
         "type": "scatter",
         "x": [
          -0.330549597631162,
          -0.32405399066749724,
          null
         ],
         "y": [
          0.727124461280168,
          0.6260213802866104,
          null
         ]
        },
        {
         "hoverinfo": "text",
         "line": {
          "color": "black",
          "width": 1.0012900519761714
         },
         "mode": "lines",
         "text": [
          "RESOLUTION PROCESS UNKNOWN--OUTCOME UNKNOWN CLOSED: 1.0012900519761714"
         ],
         "type": "scatter",
         "x": [
          -0.330549597631162,
          -0.23575518802908124,
          null
         ],
         "y": [
          0.727124461280168,
          0.41342164230014794,
          null
         ]
        },
        {
         "hoverinfo": "text",
         "line": {
          "color": "black",
          "width": 1.0278528796612765
         },
         "mode": "lines",
         "text": [
          "COMPLAINT WAS ADDRESSED--CONTACTED AN OCCUPANT: 1.0278528796612765"
         ],
         "type": "scatter",
         "x": [
          -0.9989177446021724,
          -0.9340473557488781,
          null
         ],
         "y": [
          0.276274820763796,
          0.37744935329291773,
          null
         ]
        },
        {
         "hoverinfo": "text",
         "line": {
          "color": "black",
          "width": 2.5575099049465218
         },
         "mode": "lines",
         "text": [
          "CONDITIONS WERE CORRECTED--CONTACTED A TENANT: 2.5575099049465218"
         ],
         "type": "scatter",
         "x": [
          0.9857362128353356,
          0.9233066997550211,
          null
         ],
         "y": [
          0.3474223274652054,
          0.4624198893833371,
          null
         ]
        },
        {
         "hoverinfo": "text",
         "line": {
          "color": "black",
          "width": 1
         },
         "mode": "lines",
         "text": [
          "DID NOT HAVE ENOUGH TIME TO INSPECT--ATTEMPTED AND FAILED TO INVESTIGATE ORIGINAL PROPERTY: 1.0"
         ],
         "type": "scatter",
         "x": [
          -0.2021414441724268,
          -0.06224911268933699,
          null
         ],
         "y": [
          -0.6690364697776721,
          -0.529373869921833,
          null
         ]
        },
        {
         "hoverinfo": "text",
         "line": {
          "color": "black",
          "width": 1.0340174689815052
         },
         "mode": "lines",
         "text": [
          "ATTEMPTED AND FAILED TO INVESTIGATE ORIGINAL PROPERTY--NO VIOLATIONS WERE ISSUED: 1.0340174689815052"
         ],
         "type": "scatter",
         "x": [
          -0.06224911268933699,
          0.1633918506928351,
          null
         ],
         "y": [
          -0.529373869921833,
          -0.3196891445013718,
          null
         ]
        },
        {
         "hoverinfo": "text",
         "line": {
          "color": "black",
          "width": 3.7869475760512845
         },
         "mode": "lines",
         "text": [
          "ATTEMPTED AND FAILED TO INVESTIGATE ORIGINAL PROPERTY--NOT ABLE TO GAIN ACCESS: 3.7869475760512845"
         ],
         "type": "scatter",
         "x": [
          -0.06224911268933699,
          -0.1559823137153078,
          null
         ],
         "y": [
          -0.529373869921833,
          -0.5033298194422657,
          null
         ]
        },
        {
         "hoverinfo": "text",
         "line": {
          "color": "black",
          "width": 1.012864244134968
         },
         "mode": "lines",
         "text": [
          "ATTEMPTED AND FAILED TO INVESTIGATE ORIGINAL PROPERTY--VIOLATION WAS ISSUED: 1.012864244134968"
         ],
         "type": "scatter",
         "x": [
          -0.06224911268933699,
          -0.08216311030850977,
          null
         ],
         "y": [
          -0.529373869921833,
          -0.8032808944371113,
          null
         ]
        },
        {
         "hoverinfo": "text",
         "line": {
          "color": "black",
          "width": 1.075045202831766
         },
         "mode": "lines",
         "text": [
          "LITERATURE HAS BEEN MAILED--LITERATURE PREPARATION: 1.075045202831766"
         ],
         "type": "scatter",
         "x": [
          0.8436738365595111,
          0.946480368260296,
          null
         ],
         "y": [
          0.046764830062780004,
          0.18648840440655848,
          null
         ]
        },
        {
         "hoverinfo": "text",
         "line": {
          "color": "black",
          "width": 1.0409121052900068
         },
         "mode": "lines",
         "text": [
          "LITERATURE PREPARATION--LITERATURE WILL BE EMAILED WITHIN 24 HOURS: 1.0409121052900068"
         ],
         "type": "scatter",
         "x": [
          0.946480368260296,
          0.9634974946300497,
          null
         ],
         "y": [
          0.18648840440655848,
          0.3813591306103209,
          null
         ]
        },
        {
         "hoverinfo": "text",
         "line": {
          "color": "black",
          "width": 1.0086358663923323
         },
         "mode": "lines",
         "text": [
          "NO VIOLATIONS WERE ISSUED--AT THE TIME OF THE INSPECTION: 1.0086358663923323"
         ],
         "type": "scatter",
         "x": [
          0.1633918506928351,
          0.15847137472164927,
          null
         ],
         "y": [
          -0.3196891445013718,
          -0.09661206355096615,
          null
         ]
        },
        {
         "hoverinfo": "text",
         "line": {
          "color": "black",
          "width": 5
         },
         "mode": "lines",
         "text": [
          "NO VIOLATIONS WERE ISSUED--INSPECTED THE FOLLOWING CONDITIONS: 5.0"
         ],
         "type": "scatter",
         "x": [
          0.1633918506928351,
          0.29990084669933476,
          null
         ],
         "y": [
          -0.3196891445013718,
          -0.3489921475595047,
          null
         ]
        },
        {
         "hoverinfo": "text",
         "line": {
          "color": "black",
          "width": 1.0006008150679886
         },
         "mode": "lines",
         "text": [
          "INSPECTED THE FOLLOWING CONDITIONS--SECTION 8 FAILURE WAS ISSUED: 1.0006008150679886"
         ],
         "type": "scatter",
         "x": [
          0.29990084669933476,
          0.4034102727865234,
          null
         ],
         "y": [
          -0.3489921475595047,
          -0.5388217160557631,
          null
         ]
        },
        {
         "hoverinfo": "text",
         "line": {
          "color": "black",
          "width": 3.3954972878300937
         },
         "mode": "lines",
         "text": [
          "INSPECTED THE FOLLOWING CONDITIONS--VIOLATIONS WERE ISSUED: 3.3954972878300937"
         ],
         "type": "scatter",
         "x": [
          0.29990084669933476,
          0.3633637130709446,
          null
         ],
         "y": [
          -0.3489921475595047,
          -0.25629629224390327,
          null
         ]
        },
        {
         "hoverinfo": "text",
         "line": {
          "color": "black",
          "width": 1.3005367659145142
         },
         "mode": "lines",
         "text": [
          "INSPECTED THE FOLLOWING CONDITIONS--VIOLATIONS WERE PREVIOUSLY ISSUED: 1.3005367659145142"
         ],
         "type": "scatter",
         "x": [
          0.29990084669933476,
          0.47688593562448667,
          null
         ],
         "y": [
          -0.3489921475595047,
          -0.41235095591176774,
          null
         ]
        },
        {
         "hoverinfo": "text",
         "line": {
          "color": "black",
          "width": 1.1871731651051143
         },
         "mode": "lines",
         "text": [
          "OUTCOME UNKNOWN CLOSED--CONDUCTED OR ATTEMPTED TO CONDUCT AN INSPECTION: 1.1871731651051143"
         ],
         "type": "scatter",
         "x": [
          -0.23575518802908124,
          -0.1683815055566906,
          null
         ],
         "y": [
          0.41342164230014794,
          0.17538148639351075,
          null
         ]
        },
        {
         "hoverinfo": "text",
         "line": {
          "color": "black",
          "width": 1.9832712680031968
         },
         "mode": "lines",
         "text": [
          "RESTORED--ADVISED BY A TENANT IN THE BUILDING: 1.9832712680031968"
         ],
         "type": "scatter",
         "x": [
          -0.8830775805384354,
          -0.9099944034360384,
          null
         ],
         "y": [
          -0.559274553125137,
          -0.6531685152865775,
          null
         ]
        },
        {
         "hoverinfo": "text",
         "line": {
          "color": "black",
          "width": 1.01183945767938
         },
         "mode": "lines",
         "text": [
          "VIOLATION WAS ISSUED--BY INSPECTING ANOTHER APARTMENT: 1.01183945767938"
         ],
         "type": "scatter",
         "x": [
          -0.08216311030850977,
          -0.11218353577828855,
          null
         ],
         "y": [
          -0.8032808944371113,
          -1,
          null
         ]
        },
        {
         "hoverinfo": "text",
         "marker": {
          "color": [
           "#148E82",
           "#B53C09",
           "#148E82",
           "#148E82",
           "#B53C09",
           "#148E82",
           "#B53C09",
           "#148E82",
           "#B53C09",
           "#148E82",
           "#148E82",
           "#B53C09",
           "#148E82",
           "#148E82",
           "#B53C09",
           "#B53C09",
           "#148E82",
           "#148E82",
           "#148E82",
           "#B53C09",
           "#148E82",
           "#B53C09",
           "#148E82",
           "#148E82",
           "#B53C09",
           "#148E82",
           "#148E82"
          ],
          "line": {
           "width": 2
          },
          "size": [
           20,
           20,
           20,
           26,
           20,
           20,
           20,
           20,
           38,
           32,
           25,
           20,
           24,
           20,
           20,
           30,
           21,
           24,
           20,
           32,
           20,
           20,
           26,
           20,
           50,
           20,
           26
          ]
         },
         "mode": "markers",
         "text": [
          "CLOSED THIS COMPLAINT ADMINISTRATIVELY",
          "RESOLUTION PROCESS UNKNOWN",
          "COMPLAINT CONDITIONS ARE STILL OPEN",
          "COMPLAINT WAS ADDRESSED",
          "CONTACTED AN OCCUPANT",
          "CONDITIONS WERE CORRECTED",
          "CONTACTED A TENANT",
          "DID NOT HAVE ENOUGH TIME TO INSPECT",
          "ATTEMPTED AND FAILED TO INVESTIGATE ORIGINAL PROPERTY",
          "IDENTIFIED POTENTIAL LEAD",
          "LITERATURE HAS BEEN MAILED",
          "LITERATURE PREPARATION",
          "LITERATURE WILL BE EMAILED WITHIN 24 HOURS",
          "NO VIOLATIONS WERE ISSUED",
          "AT THE TIME OF THE INSPECTION",
          "INSPECTED THE FOLLOWING CONDITIONS",
          "NOT ABLE TO GAIN ACCESS",
          "ORIGINAL COMPLAINT IS STILL OPEN",
          "OUTCOME UNKNOWN CLOSED",
          "CONDUCTED OR ATTEMPTED TO CONDUCT AN INSPECTION",
          "RESTORED",
          "ADVISED BY A TENANT IN THE BUILDING",
          "SECTION 8 FAILURE WAS ISSUED",
          "VIOLATION WAS ISSUED",
          "BY INSPECTING ANOTHER APARTMENT",
          "VIOLATIONS WERE ISSUED",
          "VIOLATIONS WERE PREVIOUSLY ISSUED"
         ],
         "textposition": "top center",
         "type": "scatter",
         "x": [
          -0.24629320487073436,
          -0.330549597631162,
          -0.4908408084394234,
          -0.9989177446021724,
          -0.9340473557488781,
          0.9857362128353356,
          0.9233066997550211,
          -0.2021414441724268,
          -0.06224911268933699,
          -0.39148770945200445,
          0.8436738365595111,
          0.946480368260296,
          0.9634974946300497,
          0.1633918506928351,
          0.15847137472164927,
          0.29990084669933476,
          -0.1559823137153078,
          -0.32405399066749724,
          -0.23575518802908124,
          -0.1683815055566906,
          -0.8830775805384354,
          -0.9099944034360384,
          0.4034102727865234,
          -0.08216311030850977,
          -0.11218353577828855,
          0.3633637130709446,
          0.47688593562448667
         ],
         "y": [
          0.9090976706699698,
          0.727124461280168,
          0.8291033726754142,
          0.276274820763796,
          0.37744935329291773,
          0.3474223274652054,
          0.4624198893833371,
          -0.6690364697776721,
          -0.529373869921833,
          0.9318976722231356,
          0.046764830062780004,
          0.18648840440655848,
          0.3813591306103209,
          -0.3196891445013718,
          -0.09661206355096615,
          -0.3489921475595047,
          -0.5033298194422657,
          0.6260213802866104,
          0.41342164230014794,
          0.17538148639351075,
          -0.559274553125137,
          -0.6531685152865775,
          -0.5388217160557631,
          -0.8032808944371113,
          -1,
          -0.25629629224390327,
          -0.41235095591176774
         ]
        }
       ],
       "layout": {
        "height": 500,
        "paper_bgcolor": "rgba(0,0,0,0)",
        "plot_bgcolor": "rgba(0,0,0,0)",
        "showlegend": false,
        "template": {
         "data": {
          "bar": [
           {
            "error_x": {
             "color": "#2a3f5f"
            },
            "error_y": {
             "color": "#2a3f5f"
            },
            "marker": {
             "line": {
              "color": "#E5ECF6",
              "width": 0.5
             }
            },
            "type": "bar"
           }
          ],
          "barpolar": [
           {
            "marker": {
             "line": {
              "color": "#E5ECF6",
              "width": 0.5
             }
            },
            "type": "barpolar"
           }
          ],
          "carpet": [
           {
            "aaxis": {
             "endlinecolor": "#2a3f5f",
             "gridcolor": "white",
             "linecolor": "white",
             "minorgridcolor": "white",
             "startlinecolor": "#2a3f5f"
            },
            "baxis": {
             "endlinecolor": "#2a3f5f",
             "gridcolor": "white",
             "linecolor": "white",
             "minorgridcolor": "white",
             "startlinecolor": "#2a3f5f"
            },
            "type": "carpet"
           }
          ],
          "choropleth": [
           {
            "colorbar": {
             "outlinewidth": 0,
             "ticks": ""
            },
            "type": "choropleth"
           }
          ],
          "contour": [
           {
            "colorbar": {
             "outlinewidth": 0,
             "ticks": ""
            },
            "colorscale": [
             [
              0,
              "#0d0887"
             ],
             [
              0.1111111111111111,
              "#46039f"
             ],
             [
              0.2222222222222222,
              "#7201a8"
             ],
             [
              0.3333333333333333,
              "#9c179e"
             ],
             [
              0.4444444444444444,
              "#bd3786"
             ],
             [
              0.5555555555555556,
              "#d8576b"
             ],
             [
              0.6666666666666666,
              "#ed7953"
             ],
             [
              0.7777777777777778,
              "#fb9f3a"
             ],
             [
              0.8888888888888888,
              "#fdca26"
             ],
             [
              1,
              "#f0f921"
             ]
            ],
            "type": "contour"
           }
          ],
          "contourcarpet": [
           {
            "colorbar": {
             "outlinewidth": 0,
             "ticks": ""
            },
            "type": "contourcarpet"
           }
          ],
          "heatmap": [
           {
            "colorbar": {
             "outlinewidth": 0,
             "ticks": ""
            },
            "colorscale": [
             [
              0,
              "#0d0887"
             ],
             [
              0.1111111111111111,
              "#46039f"
             ],
             [
              0.2222222222222222,
              "#7201a8"
             ],
             [
              0.3333333333333333,
              "#9c179e"
             ],
             [
              0.4444444444444444,
              "#bd3786"
             ],
             [
              0.5555555555555556,
              "#d8576b"
             ],
             [
              0.6666666666666666,
              "#ed7953"
             ],
             [
              0.7777777777777778,
              "#fb9f3a"
             ],
             [
              0.8888888888888888,
              "#fdca26"
             ],
             [
              1,
              "#f0f921"
             ]
            ],
            "type": "heatmap"
           }
          ],
          "heatmapgl": [
           {
            "colorbar": {
             "outlinewidth": 0,
             "ticks": ""
            },
            "colorscale": [
             [
              0,
              "#0d0887"
             ],
             [
              0.1111111111111111,
              "#46039f"
             ],
             [
              0.2222222222222222,
              "#7201a8"
             ],
             [
              0.3333333333333333,
              "#9c179e"
             ],
             [
              0.4444444444444444,
              "#bd3786"
             ],
             [
              0.5555555555555556,
              "#d8576b"
             ],
             [
              0.6666666666666666,
              "#ed7953"
             ],
             [
              0.7777777777777778,
              "#fb9f3a"
             ],
             [
              0.8888888888888888,
              "#fdca26"
             ],
             [
              1,
              "#f0f921"
             ]
            ],
            "type": "heatmapgl"
           }
          ],
          "histogram": [
           {
            "marker": {
             "colorbar": {
              "outlinewidth": 0,
              "ticks": ""
             }
            },
            "type": "histogram"
           }
          ],
          "histogram2d": [
           {
            "colorbar": {
             "outlinewidth": 0,
             "ticks": ""
            },
            "colorscale": [
             [
              0,
              "#0d0887"
             ],
             [
              0.1111111111111111,
              "#46039f"
             ],
             [
              0.2222222222222222,
              "#7201a8"
             ],
             [
              0.3333333333333333,
              "#9c179e"
             ],
             [
              0.4444444444444444,
              "#bd3786"
             ],
             [
              0.5555555555555556,
              "#d8576b"
             ],
             [
              0.6666666666666666,
              "#ed7953"
             ],
             [
              0.7777777777777778,
              "#fb9f3a"
             ],
             [
              0.8888888888888888,
              "#fdca26"
             ],
             [
              1,
              "#f0f921"
             ]
            ],
            "type": "histogram2d"
           }
          ],
          "histogram2dcontour": [
           {
            "colorbar": {
             "outlinewidth": 0,
             "ticks": ""
            },
            "colorscale": [
             [
              0,
              "#0d0887"
             ],
             [
              0.1111111111111111,
              "#46039f"
             ],
             [
              0.2222222222222222,
              "#7201a8"
             ],
             [
              0.3333333333333333,
              "#9c179e"
             ],
             [
              0.4444444444444444,
              "#bd3786"
             ],
             [
              0.5555555555555556,
              "#d8576b"
             ],
             [
              0.6666666666666666,
              "#ed7953"
             ],
             [
              0.7777777777777778,
              "#fb9f3a"
             ],
             [
              0.8888888888888888,
              "#fdca26"
             ],
             [
              1,
              "#f0f921"
             ]
            ],
            "type": "histogram2dcontour"
           }
          ],
          "mesh3d": [
           {
            "colorbar": {
             "outlinewidth": 0,
             "ticks": ""
            },
            "type": "mesh3d"
           }
          ],
          "parcoords": [
           {
            "line": {
             "colorbar": {
              "outlinewidth": 0,
              "ticks": ""
             }
            },
            "type": "parcoords"
           }
          ],
          "pie": [
           {
            "automargin": true,
            "type": "pie"
           }
          ],
          "scatter": [
           {
            "marker": {
             "colorbar": {
              "outlinewidth": 0,
              "ticks": ""
             }
            },
            "type": "scatter"
           }
          ],
          "scatter3d": [
           {
            "line": {
             "colorbar": {
              "outlinewidth": 0,
              "ticks": ""
             }
            },
            "marker": {
             "colorbar": {
              "outlinewidth": 0,
              "ticks": ""
             }
            },
            "type": "scatter3d"
           }
          ],
          "scattercarpet": [
           {
            "marker": {
             "colorbar": {
              "outlinewidth": 0,
              "ticks": ""
             }
            },
            "type": "scattercarpet"
           }
          ],
          "scattergeo": [
           {
            "marker": {
             "colorbar": {
              "outlinewidth": 0,
              "ticks": ""
             }
            },
            "type": "scattergeo"
           }
          ],
          "scattergl": [
           {
            "marker": {
             "colorbar": {
              "outlinewidth": 0,
              "ticks": ""
             }
            },
            "type": "scattergl"
           }
          ],
          "scattermapbox": [
           {
            "marker": {
             "colorbar": {
              "outlinewidth": 0,
              "ticks": ""
             }
            },
            "type": "scattermapbox"
           }
          ],
          "scatterpolar": [
           {
            "marker": {
             "colorbar": {
              "outlinewidth": 0,
              "ticks": ""
             }
            },
            "type": "scatterpolar"
           }
          ],
          "scatterpolargl": [
           {
            "marker": {
             "colorbar": {
              "outlinewidth": 0,
              "ticks": ""
             }
            },
            "type": "scatterpolargl"
           }
          ],
          "scatterternary": [
           {
            "marker": {
             "colorbar": {
              "outlinewidth": 0,
              "ticks": ""
             }
            },
            "type": "scatterternary"
           }
          ],
          "surface": [
           {
            "colorbar": {
             "outlinewidth": 0,
             "ticks": ""
            },
            "colorscale": [
             [
              0,
              "#0d0887"
             ],
             [
              0.1111111111111111,
              "#46039f"
             ],
             [
              0.2222222222222222,
              "#7201a8"
             ],
             [
              0.3333333333333333,
              "#9c179e"
             ],
             [
              0.4444444444444444,
              "#bd3786"
             ],
             [
              0.5555555555555556,
              "#d8576b"
             ],
             [
              0.6666666666666666,
              "#ed7953"
             ],
             [
              0.7777777777777778,
              "#fb9f3a"
             ],
             [
              0.8888888888888888,
              "#fdca26"
             ],
             [
              1,
              "#f0f921"
             ]
            ],
            "type": "surface"
           }
          ],
          "table": [
           {
            "cells": {
             "fill": {
              "color": "#EBF0F8"
             },
             "line": {
              "color": "white"
             }
            },
            "header": {
             "fill": {
              "color": "#C8D4E3"
             },
             "line": {
              "color": "white"
             }
            },
            "type": "table"
           }
          ]
         },
         "layout": {
          "annotationdefaults": {
           "arrowcolor": "#2a3f5f",
           "arrowhead": 0,
           "arrowwidth": 1
          },
          "coloraxis": {
           "colorbar": {
            "outlinewidth": 0,
            "ticks": ""
           }
          },
          "colorscale": {
           "diverging": [
            [
             0,
             "#8e0152"
            ],
            [
             0.1,
             "#c51b7d"
            ],
            [
             0.2,
             "#de77ae"
            ],
            [
             0.3,
             "#f1b6da"
            ],
            [
             0.4,
             "#fde0ef"
            ],
            [
             0.5,
             "#f7f7f7"
            ],
            [
             0.6,
             "#e6f5d0"
            ],
            [
             0.7,
             "#b8e186"
            ],
            [
             0.8,
             "#7fbc41"
            ],
            [
             0.9,
             "#4d9221"
            ],
            [
             1,
             "#276419"
            ]
           ],
           "sequential": [
            [
             0,
             "#0d0887"
            ],
            [
             0.1111111111111111,
             "#46039f"
            ],
            [
             0.2222222222222222,
             "#7201a8"
            ],
            [
             0.3333333333333333,
             "#9c179e"
            ],
            [
             0.4444444444444444,
             "#bd3786"
            ],
            [
             0.5555555555555556,
             "#d8576b"
            ],
            [
             0.6666666666666666,
             "#ed7953"
            ],
            [
             0.7777777777777778,
             "#fb9f3a"
            ],
            [
             0.8888888888888888,
             "#fdca26"
            ],
            [
             1,
             "#f0f921"
            ]
           ],
           "sequentialminus": [
            [
             0,
             "#0d0887"
            ],
            [
             0.1111111111111111,
             "#46039f"
            ],
            [
             0.2222222222222222,
             "#7201a8"
            ],
            [
             0.3333333333333333,
             "#9c179e"
            ],
            [
             0.4444444444444444,
             "#bd3786"
            ],
            [
             0.5555555555555556,
             "#d8576b"
            ],
            [
             0.6666666666666666,
             "#ed7953"
            ],
            [
             0.7777777777777778,
             "#fb9f3a"
            ],
            [
             0.8888888888888888,
             "#fdca26"
            ],
            [
             1,
             "#f0f921"
            ]
           ]
          },
          "colorway": [
           "#636efa",
           "#EF553B",
           "#00cc96",
           "#ab63fa",
           "#FFA15A",
           "#19d3f3",
           "#FF6692",
           "#B6E880",
           "#FF97FF",
           "#FECB52"
          ],
          "font": {
           "color": "#2a3f5f"
          },
          "geo": {
           "bgcolor": "white",
           "lakecolor": "white",
           "landcolor": "#E5ECF6",
           "showlakes": true,
           "showland": true,
           "subunitcolor": "white"
          },
          "hoverlabel": {
           "align": "left"
          },
          "hovermode": "closest",
          "mapbox": {
           "style": "light"
          },
          "paper_bgcolor": "white",
          "plot_bgcolor": "#E5ECF6",
          "polar": {
           "angularaxis": {
            "gridcolor": "white",
            "linecolor": "white",
            "ticks": ""
           },
           "bgcolor": "#E5ECF6",
           "radialaxis": {
            "gridcolor": "white",
            "linecolor": "white",
            "ticks": ""
           }
          },
          "scene": {
           "xaxis": {
            "backgroundcolor": "#E5ECF6",
            "gridcolor": "white",
            "gridwidth": 2,
            "linecolor": "white",
            "showbackground": true,
            "ticks": "",
            "zerolinecolor": "white"
           },
           "yaxis": {
            "backgroundcolor": "#E5ECF6",
            "gridcolor": "white",
            "gridwidth": 2,
            "linecolor": "white",
            "showbackground": true,
            "ticks": "",
            "zerolinecolor": "white"
           },
           "zaxis": {
            "backgroundcolor": "#E5ECF6",
            "gridcolor": "white",
            "gridwidth": 2,
            "linecolor": "white",
            "showbackground": true,
            "ticks": "",
            "zerolinecolor": "white"
           }
          },
          "shapedefaults": {
           "line": {
            "color": "#2a3f5f"
           }
          },
          "ternary": {
           "aaxis": {
            "gridcolor": "white",
            "linecolor": "white",
            "ticks": ""
           },
           "baxis": {
            "gridcolor": "white",
            "linecolor": "white",
            "ticks": ""
           },
           "bgcolor": "#E5ECF6",
           "caxis": {
            "gridcolor": "white",
            "linecolor": "white",
            "ticks": ""
           }
          },
          "title": {
           "x": 0.05
          },
          "xaxis": {
           "automargin": true,
           "gridcolor": "white",
           "linecolor": "white",
           "ticks": "",
           "title": {
            "standoff": 15
           },
           "zerolinecolor": "white",
           "zerolinewidth": 2
          },
          "yaxis": {
           "automargin": true,
           "gridcolor": "white",
           "linecolor": "white",
           "ticks": "",
           "title": {
            "standoff": 15
           },
           "zerolinecolor": "white",
           "zerolinewidth": 2
          }
         }
        },
        "title": {
         "font": {
          "color": "black",
          "size": 15
         },
         "text": "Co-occurence of keywords from the NYC housing department's description of 311 complaint resolution",
         "x": 0.1,
         "y": 0.9
        },
        "width": 900,
        "xaxis": {
         "showgrid": false,
         "showticklabels": false,
         "zeroline": false
        },
        "yaxis": {
         "showgrid": false,
         "showticklabels": false,
         "zeroline": false
        }
       }
      },
      "text/html": [
       "<div>                            <div id=\"a2335b49-ae5b-4a5a-8871-4738d9560405\" class=\"plotly-graph-div\" style=\"height:500px; width:900px;\"></div>            <script type=\"text/javascript\">                require([\"plotly\"], function(Plotly) {                    window.PLOTLYENV=window.PLOTLYENV || {};                                    if (document.getElementById(\"a2335b49-ae5b-4a5a-8871-4738d9560405\")) {                    Plotly.newPlot(                        \"a2335b49-ae5b-4a5a-8871-4738d9560405\",                        [{\"hoverinfo\": \"text\", \"line\": {\"color\": \"black\", \"width\": 1.055585596308955}, \"mode\": \"lines\", \"text\": [\"CLOSED THIS COMPLAINT ADMINISTRATIVELY--RESOLUTION PROCESS UNKNOWN: 1.055585596308955\"], \"type\": \"scatter\", \"x\": [-0.24629320487073436, -0.330549597631162, null], \"y\": [0.9090976706699698, 0.727124461280168, null]}, {\"hoverinfo\": \"text\", \"line\": {\"color\": \"black\", \"width\": 1.1846610779529212}, \"mode\": \"lines\", \"text\": [\"RESOLUTION PROCESS UNKNOWN--COMPLAINT CONDITIONS ARE STILL OPEN: 1.1846610779529212\"], \"type\": \"scatter\", \"x\": [-0.330549597631162, -0.4908408084394234, null], \"y\": [0.727124461280168, 0.8291033726754142, null]}, {\"hoverinfo\": \"text\", \"line\": {\"color\": \"black\", \"width\": 1.0878459646199279}, \"mode\": \"lines\", \"text\": [\"RESOLUTION PROCESS UNKNOWN--IDENTIFIED POTENTIAL LEAD: 1.0878459646199279\"], \"type\": \"scatter\", \"x\": [-0.330549597631162, -0.39148770945200445, null], \"y\": [0.727124461280168, 0.9318976722231356, null]}, {\"hoverinfo\": \"text\", \"line\": {\"color\": \"black\", \"width\": 2.1291060892040337}, \"mode\": \"lines\", \"text\": [\"RESOLUTION PROCESS UNKNOWN--ORIGINAL COMPLAINT IS STILL OPEN: 2.1291060892040337\"], \"type\": \"scatter\", \"x\": [-0.330549597631162, -0.32405399066749724, null], \"y\": [0.727124461280168, 0.6260213802866104, null]}, {\"hoverinfo\": \"text\", \"line\": {\"color\": \"black\", \"width\": 1.0012900519761714}, \"mode\": \"lines\", \"text\": [\"RESOLUTION PROCESS UNKNOWN--OUTCOME UNKNOWN CLOSED: 1.0012900519761714\"], \"type\": \"scatter\", \"x\": [-0.330549597631162, -0.23575518802908124, null], \"y\": [0.727124461280168, 0.41342164230014794, null]}, {\"hoverinfo\": \"text\", \"line\": {\"color\": \"black\", \"width\": 1.0278528796612765}, \"mode\": \"lines\", \"text\": [\"COMPLAINT WAS ADDRESSED--CONTACTED AN OCCUPANT: 1.0278528796612765\"], \"type\": \"scatter\", \"x\": [-0.9989177446021724, -0.9340473557488781, null], \"y\": [0.276274820763796, 0.37744935329291773, null]}, {\"hoverinfo\": \"text\", \"line\": {\"color\": \"black\", \"width\": 2.5575099049465218}, \"mode\": \"lines\", \"text\": [\"CONDITIONS WERE CORRECTED--CONTACTED A TENANT: 2.5575099049465218\"], \"type\": \"scatter\", \"x\": [0.9857362128353356, 0.9233066997550211, null], \"y\": [0.3474223274652054, 0.4624198893833371, null]}, {\"hoverinfo\": \"text\", \"line\": {\"color\": \"black\", \"width\": 1.0}, \"mode\": \"lines\", \"text\": [\"DID NOT HAVE ENOUGH TIME TO INSPECT--ATTEMPTED AND FAILED TO INVESTIGATE ORIGINAL PROPERTY: 1.0\"], \"type\": \"scatter\", \"x\": [-0.2021414441724268, -0.06224911268933699, null], \"y\": [-0.6690364697776721, -0.529373869921833, null]}, {\"hoverinfo\": \"text\", \"line\": {\"color\": \"black\", \"width\": 1.0340174689815052}, \"mode\": \"lines\", \"text\": [\"ATTEMPTED AND FAILED TO INVESTIGATE ORIGINAL PROPERTY--NO VIOLATIONS WERE ISSUED: 1.0340174689815052\"], \"type\": \"scatter\", \"x\": [-0.06224911268933699, 0.1633918506928351, null], \"y\": [-0.529373869921833, -0.3196891445013718, null]}, {\"hoverinfo\": \"text\", \"line\": {\"color\": \"black\", \"width\": 3.7869475760512845}, \"mode\": \"lines\", \"text\": [\"ATTEMPTED AND FAILED TO INVESTIGATE ORIGINAL PROPERTY--NOT ABLE TO GAIN ACCESS: 3.7869475760512845\"], \"type\": \"scatter\", \"x\": [-0.06224911268933699, -0.1559823137153078, null], \"y\": [-0.529373869921833, -0.5033298194422657, null]}, {\"hoverinfo\": \"text\", \"line\": {\"color\": \"black\", \"width\": 1.012864244134968}, \"mode\": \"lines\", \"text\": [\"ATTEMPTED AND FAILED TO INVESTIGATE ORIGINAL PROPERTY--VIOLATION WAS ISSUED: 1.012864244134968\"], \"type\": \"scatter\", \"x\": [-0.06224911268933699, -0.08216311030850977, null], \"y\": [-0.529373869921833, -0.8032808944371113, null]}, {\"hoverinfo\": \"text\", \"line\": {\"color\": \"black\", \"width\": 1.075045202831766}, \"mode\": \"lines\", \"text\": [\"LITERATURE HAS BEEN MAILED--LITERATURE PREPARATION: 1.075045202831766\"], \"type\": \"scatter\", \"x\": [0.8436738365595111, 0.946480368260296, null], \"y\": [0.046764830062780004, 0.18648840440655848, null]}, {\"hoverinfo\": \"text\", \"line\": {\"color\": \"black\", \"width\": 1.0409121052900068}, \"mode\": \"lines\", \"text\": [\"LITERATURE PREPARATION--LITERATURE WILL BE EMAILED WITHIN 24 HOURS: 1.0409121052900068\"], \"type\": \"scatter\", \"x\": [0.946480368260296, 0.9634974946300497, null], \"y\": [0.18648840440655848, 0.3813591306103209, null]}, {\"hoverinfo\": \"text\", \"line\": {\"color\": \"black\", \"width\": 1.0086358663923323}, \"mode\": \"lines\", \"text\": [\"NO VIOLATIONS WERE ISSUED--AT THE TIME OF THE INSPECTION: 1.0086358663923323\"], \"type\": \"scatter\", \"x\": [0.1633918506928351, 0.15847137472164927, null], \"y\": [-0.3196891445013718, -0.09661206355096615, null]}, {\"hoverinfo\": \"text\", \"line\": {\"color\": \"black\", \"width\": 5.0}, \"mode\": \"lines\", \"text\": [\"NO VIOLATIONS WERE ISSUED--INSPECTED THE FOLLOWING CONDITIONS: 5.0\"], \"type\": \"scatter\", \"x\": [0.1633918506928351, 0.29990084669933476, null], \"y\": [-0.3196891445013718, -0.3489921475595047, null]}, {\"hoverinfo\": \"text\", \"line\": {\"color\": \"black\", \"width\": 1.0006008150679886}, \"mode\": \"lines\", \"text\": [\"INSPECTED THE FOLLOWING CONDITIONS--SECTION 8 FAILURE WAS ISSUED: 1.0006008150679886\"], \"type\": \"scatter\", \"x\": [0.29990084669933476, 0.4034102727865234, null], \"y\": [-0.3489921475595047, -0.5388217160557631, null]}, {\"hoverinfo\": \"text\", \"line\": {\"color\": \"black\", \"width\": 3.3954972878300937}, \"mode\": \"lines\", \"text\": [\"INSPECTED THE FOLLOWING CONDITIONS--VIOLATIONS WERE ISSUED: 3.3954972878300937\"], \"type\": \"scatter\", \"x\": [0.29990084669933476, 0.3633637130709446, null], \"y\": [-0.3489921475595047, -0.25629629224390327, null]}, {\"hoverinfo\": \"text\", \"line\": {\"color\": \"black\", \"width\": 1.3005367659145142}, \"mode\": \"lines\", \"text\": [\"INSPECTED THE FOLLOWING CONDITIONS--VIOLATIONS WERE PREVIOUSLY ISSUED: 1.3005367659145142\"], \"type\": \"scatter\", \"x\": [0.29990084669933476, 0.47688593562448667, null], \"y\": [-0.3489921475595047, -0.41235095591176774, null]}, {\"hoverinfo\": \"text\", \"line\": {\"color\": \"black\", \"width\": 1.1871731651051143}, \"mode\": \"lines\", \"text\": [\"OUTCOME UNKNOWN CLOSED--CONDUCTED OR ATTEMPTED TO CONDUCT AN INSPECTION: 1.1871731651051143\"], \"type\": \"scatter\", \"x\": [-0.23575518802908124, -0.1683815055566906, null], \"y\": [0.41342164230014794, 0.17538148639351075, null]}, {\"hoverinfo\": \"text\", \"line\": {\"color\": \"black\", \"width\": 1.9832712680031968}, \"mode\": \"lines\", \"text\": [\"RESTORED--ADVISED BY A TENANT IN THE BUILDING: 1.9832712680031968\"], \"type\": \"scatter\", \"x\": [-0.8830775805384354, -0.9099944034360384, null], \"y\": [-0.559274553125137, -0.6531685152865775, null]}, {\"hoverinfo\": \"text\", \"line\": {\"color\": \"black\", \"width\": 1.01183945767938}, \"mode\": \"lines\", \"text\": [\"VIOLATION WAS ISSUED--BY INSPECTING ANOTHER APARTMENT: 1.01183945767938\"], \"type\": \"scatter\", \"x\": [-0.08216311030850977, -0.11218353577828855, null], \"y\": [-0.8032808944371113, -1.0, null]}, {\"hoverinfo\": \"text\", \"marker\": {\"color\": [\"#148E82\", \"#B53C09\", \"#148E82\", \"#148E82\", \"#B53C09\", \"#148E82\", \"#B53C09\", \"#148E82\", \"#B53C09\", \"#148E82\", \"#148E82\", \"#B53C09\", \"#148E82\", \"#148E82\", \"#B53C09\", \"#B53C09\", \"#148E82\", \"#148E82\", \"#148E82\", \"#B53C09\", \"#148E82\", \"#B53C09\", \"#148E82\", \"#148E82\", \"#B53C09\", \"#148E82\", \"#148E82\"], \"line\": {\"width\": 2}, \"size\": [20, 20, 20, 26, 20, 20, 20, 20, 38, 32, 25, 20, 24, 20, 20, 30, 21, 24, 20, 32, 20, 20, 26, 20, 50, 20, 26]}, \"mode\": \"markers\", \"text\": [\"CLOSED THIS COMPLAINT ADMINISTRATIVELY\", \"RESOLUTION PROCESS UNKNOWN\", \"COMPLAINT CONDITIONS ARE STILL OPEN\", \"COMPLAINT WAS ADDRESSED\", \"CONTACTED AN OCCUPANT\", \"CONDITIONS WERE CORRECTED\", \"CONTACTED A TENANT\", \"DID NOT HAVE ENOUGH TIME TO INSPECT\", \"ATTEMPTED AND FAILED TO INVESTIGATE ORIGINAL PROPERTY\", \"IDENTIFIED POTENTIAL LEAD\", \"LITERATURE HAS BEEN MAILED\", \"LITERATURE PREPARATION\", \"LITERATURE WILL BE EMAILED WITHIN 24 HOURS\", \"NO VIOLATIONS WERE ISSUED\", \"AT THE TIME OF THE INSPECTION\", \"INSPECTED THE FOLLOWING CONDITIONS\", \"NOT ABLE TO GAIN ACCESS\", \"ORIGINAL COMPLAINT IS STILL OPEN\", \"OUTCOME UNKNOWN CLOSED\", \"CONDUCTED OR ATTEMPTED TO CONDUCT AN INSPECTION\", \"RESTORED\", \"ADVISED BY A TENANT IN THE BUILDING\", \"SECTION 8 FAILURE WAS ISSUED\", \"VIOLATION WAS ISSUED\", \"BY INSPECTING ANOTHER APARTMENT\", \"VIOLATIONS WERE ISSUED\", \"VIOLATIONS WERE PREVIOUSLY ISSUED\"], \"textposition\": \"top center\", \"type\": \"scatter\", \"x\": [-0.24629320487073436, -0.330549597631162, -0.4908408084394234, -0.9989177446021724, -0.9340473557488781, 0.9857362128353356, 0.9233066997550211, -0.2021414441724268, -0.06224911268933699, -0.39148770945200445, 0.8436738365595111, 0.946480368260296, 0.9634974946300497, 0.1633918506928351, 0.15847137472164927, 0.29990084669933476, -0.1559823137153078, -0.32405399066749724, -0.23575518802908124, -0.1683815055566906, -0.8830775805384354, -0.9099944034360384, 0.4034102727865234, -0.08216311030850977, -0.11218353577828855, 0.3633637130709446, 0.47688593562448667], \"y\": [0.9090976706699698, 0.727124461280168, 0.8291033726754142, 0.276274820763796, 0.37744935329291773, 0.3474223274652054, 0.4624198893833371, -0.6690364697776721, -0.529373869921833, 0.9318976722231356, 0.046764830062780004, 0.18648840440655848, 0.3813591306103209, -0.3196891445013718, -0.09661206355096615, -0.3489921475595047, -0.5033298194422657, 0.6260213802866104, 0.41342164230014794, 0.17538148639351075, -0.559274553125137, -0.6531685152865775, -0.5388217160557631, -0.8032808944371113, -1.0, -0.25629629224390327, -0.41235095591176774]}],                        {\"height\": 500, \"paper_bgcolor\": \"rgba(0,0,0,0)\", \"plot_bgcolor\": \"rgba(0,0,0,0)\", \"showlegend\": false, \"template\": {\"data\": {\"bar\": [{\"error_x\": {\"color\": \"#2a3f5f\"}, \"error_y\": {\"color\": \"#2a3f5f\"}, \"marker\": {\"line\": {\"color\": \"#E5ECF6\", \"width\": 0.5}}, \"type\": \"bar\"}], \"barpolar\": [{\"marker\": {\"line\": {\"color\": \"#E5ECF6\", \"width\": 0.5}}, \"type\": \"barpolar\"}], \"carpet\": [{\"aaxis\": {\"endlinecolor\": \"#2a3f5f\", \"gridcolor\": \"white\", \"linecolor\": \"white\", \"minorgridcolor\": \"white\", \"startlinecolor\": \"#2a3f5f\"}, \"baxis\": {\"endlinecolor\": \"#2a3f5f\", \"gridcolor\": \"white\", \"linecolor\": \"white\", \"minorgridcolor\": \"white\", \"startlinecolor\": \"#2a3f5f\"}, \"type\": \"carpet\"}], \"choropleth\": [{\"colorbar\": {\"outlinewidth\": 0, \"ticks\": \"\"}, \"type\": \"choropleth\"}], \"contour\": [{\"colorbar\": {\"outlinewidth\": 0, \"ticks\": \"\"}, \"colorscale\": [[0.0, \"#0d0887\"], [0.1111111111111111, \"#46039f\"], [0.2222222222222222, \"#7201a8\"], [0.3333333333333333, \"#9c179e\"], [0.4444444444444444, \"#bd3786\"], [0.5555555555555556, \"#d8576b\"], [0.6666666666666666, \"#ed7953\"], [0.7777777777777778, \"#fb9f3a\"], [0.8888888888888888, \"#fdca26\"], [1.0, \"#f0f921\"]], \"type\": \"contour\"}], \"contourcarpet\": [{\"colorbar\": {\"outlinewidth\": 0, \"ticks\": \"\"}, \"type\": \"contourcarpet\"}], \"heatmap\": [{\"colorbar\": {\"outlinewidth\": 0, \"ticks\": \"\"}, \"colorscale\": [[0.0, \"#0d0887\"], [0.1111111111111111, \"#46039f\"], [0.2222222222222222, \"#7201a8\"], [0.3333333333333333, \"#9c179e\"], [0.4444444444444444, \"#bd3786\"], [0.5555555555555556, \"#d8576b\"], [0.6666666666666666, \"#ed7953\"], [0.7777777777777778, \"#fb9f3a\"], [0.8888888888888888, \"#fdca26\"], [1.0, \"#f0f921\"]], \"type\": \"heatmap\"}], \"heatmapgl\": [{\"colorbar\": {\"outlinewidth\": 0, \"ticks\": \"\"}, \"colorscale\": [[0.0, \"#0d0887\"], [0.1111111111111111, \"#46039f\"], [0.2222222222222222, \"#7201a8\"], [0.3333333333333333, \"#9c179e\"], [0.4444444444444444, \"#bd3786\"], [0.5555555555555556, \"#d8576b\"], [0.6666666666666666, \"#ed7953\"], [0.7777777777777778, \"#fb9f3a\"], [0.8888888888888888, \"#fdca26\"], [1.0, \"#f0f921\"]], \"type\": \"heatmapgl\"}], \"histogram\": [{\"marker\": {\"colorbar\": {\"outlinewidth\": 0, \"ticks\": \"\"}}, \"type\": \"histogram\"}], \"histogram2d\": [{\"colorbar\": {\"outlinewidth\": 0, \"ticks\": \"\"}, \"colorscale\": [[0.0, \"#0d0887\"], [0.1111111111111111, \"#46039f\"], [0.2222222222222222, \"#7201a8\"], [0.3333333333333333, \"#9c179e\"], [0.4444444444444444, \"#bd3786\"], [0.5555555555555556, \"#d8576b\"], [0.6666666666666666, \"#ed7953\"], [0.7777777777777778, \"#fb9f3a\"], [0.8888888888888888, \"#fdca26\"], [1.0, \"#f0f921\"]], \"type\": \"histogram2d\"}], \"histogram2dcontour\": [{\"colorbar\": {\"outlinewidth\": 0, \"ticks\": \"\"}, \"colorscale\": [[0.0, \"#0d0887\"], [0.1111111111111111, \"#46039f\"], [0.2222222222222222, \"#7201a8\"], [0.3333333333333333, \"#9c179e\"], [0.4444444444444444, \"#bd3786\"], [0.5555555555555556, \"#d8576b\"], [0.6666666666666666, \"#ed7953\"], [0.7777777777777778, \"#fb9f3a\"], [0.8888888888888888, \"#fdca26\"], [1.0, \"#f0f921\"]], \"type\": \"histogram2dcontour\"}], \"mesh3d\": [{\"colorbar\": {\"outlinewidth\": 0, \"ticks\": \"\"}, \"type\": \"mesh3d\"}], \"parcoords\": [{\"line\": {\"colorbar\": {\"outlinewidth\": 0, \"ticks\": \"\"}}, \"type\": \"parcoords\"}], \"pie\": [{\"automargin\": true, \"type\": \"pie\"}], \"scatter\": [{\"marker\": {\"colorbar\": {\"outlinewidth\": 0, \"ticks\": \"\"}}, \"type\": \"scatter\"}], \"scatter3d\": [{\"line\": {\"colorbar\": {\"outlinewidth\": 0, \"ticks\": \"\"}}, \"marker\": {\"colorbar\": {\"outlinewidth\": 0, \"ticks\": \"\"}}, \"type\": \"scatter3d\"}], \"scattercarpet\": [{\"marker\": {\"colorbar\": {\"outlinewidth\": 0, \"ticks\": \"\"}}, \"type\": \"scattercarpet\"}], \"scattergeo\": [{\"marker\": {\"colorbar\": {\"outlinewidth\": 0, \"ticks\": \"\"}}, \"type\": \"scattergeo\"}], \"scattergl\": [{\"marker\": {\"colorbar\": {\"outlinewidth\": 0, \"ticks\": \"\"}}, \"type\": \"scattergl\"}], \"scattermapbox\": [{\"marker\": {\"colorbar\": {\"outlinewidth\": 0, \"ticks\": \"\"}}, \"type\": \"scattermapbox\"}], \"scatterpolar\": [{\"marker\": {\"colorbar\": {\"outlinewidth\": 0, \"ticks\": \"\"}}, \"type\": \"scatterpolar\"}], \"scatterpolargl\": [{\"marker\": {\"colorbar\": {\"outlinewidth\": 0, \"ticks\": \"\"}}, \"type\": \"scatterpolargl\"}], \"scatterternary\": [{\"marker\": {\"colorbar\": {\"outlinewidth\": 0, \"ticks\": \"\"}}, \"type\": \"scatterternary\"}], \"surface\": [{\"colorbar\": {\"outlinewidth\": 0, \"ticks\": \"\"}, \"colorscale\": [[0.0, \"#0d0887\"], [0.1111111111111111, \"#46039f\"], [0.2222222222222222, \"#7201a8\"], [0.3333333333333333, \"#9c179e\"], [0.4444444444444444, \"#bd3786\"], [0.5555555555555556, \"#d8576b\"], [0.6666666666666666, \"#ed7953\"], [0.7777777777777778, \"#fb9f3a\"], [0.8888888888888888, \"#fdca26\"], [1.0, \"#f0f921\"]], \"type\": \"surface\"}], \"table\": [{\"cells\": {\"fill\": {\"color\": \"#EBF0F8\"}, \"line\": {\"color\": \"white\"}}, \"header\": {\"fill\": {\"color\": \"#C8D4E3\"}, \"line\": {\"color\": \"white\"}}, \"type\": \"table\"}]}, \"layout\": {\"annotationdefaults\": {\"arrowcolor\": \"#2a3f5f\", \"arrowhead\": 0, \"arrowwidth\": 1}, \"coloraxis\": {\"colorbar\": {\"outlinewidth\": 0, \"ticks\": \"\"}}, \"colorscale\": {\"diverging\": [[0, \"#8e0152\"], [0.1, \"#c51b7d\"], [0.2, \"#de77ae\"], [0.3, \"#f1b6da\"], [0.4, \"#fde0ef\"], [0.5, \"#f7f7f7\"], [0.6, \"#e6f5d0\"], [0.7, \"#b8e186\"], [0.8, \"#7fbc41\"], [0.9, \"#4d9221\"], [1, \"#276419\"]], \"sequential\": [[0.0, \"#0d0887\"], [0.1111111111111111, \"#46039f\"], [0.2222222222222222, \"#7201a8\"], [0.3333333333333333, \"#9c179e\"], [0.4444444444444444, \"#bd3786\"], [0.5555555555555556, \"#d8576b\"], [0.6666666666666666, \"#ed7953\"], [0.7777777777777778, \"#fb9f3a\"], [0.8888888888888888, \"#fdca26\"], [1.0, \"#f0f921\"]], \"sequentialminus\": [[0.0, \"#0d0887\"], [0.1111111111111111, \"#46039f\"], [0.2222222222222222, \"#7201a8\"], [0.3333333333333333, \"#9c179e\"], [0.4444444444444444, \"#bd3786\"], [0.5555555555555556, \"#d8576b\"], [0.6666666666666666, \"#ed7953\"], [0.7777777777777778, \"#fb9f3a\"], [0.8888888888888888, \"#fdca26\"], [1.0, \"#f0f921\"]]}, \"colorway\": [\"#636efa\", \"#EF553B\", \"#00cc96\", \"#ab63fa\", \"#FFA15A\", \"#19d3f3\", \"#FF6692\", \"#B6E880\", \"#FF97FF\", \"#FECB52\"], \"font\": {\"color\": \"#2a3f5f\"}, \"geo\": {\"bgcolor\": \"white\", \"lakecolor\": \"white\", \"landcolor\": \"#E5ECF6\", \"showlakes\": true, \"showland\": true, \"subunitcolor\": \"white\"}, \"hoverlabel\": {\"align\": \"left\"}, \"hovermode\": \"closest\", \"mapbox\": {\"style\": \"light\"}, \"paper_bgcolor\": \"white\", \"plot_bgcolor\": \"#E5ECF6\", \"polar\": {\"angularaxis\": {\"gridcolor\": \"white\", \"linecolor\": \"white\", \"ticks\": \"\"}, \"bgcolor\": \"#E5ECF6\", \"radialaxis\": {\"gridcolor\": \"white\", \"linecolor\": \"white\", \"ticks\": \"\"}}, \"scene\": {\"xaxis\": {\"backgroundcolor\": \"#E5ECF6\", \"gridcolor\": \"white\", \"gridwidth\": 2, \"linecolor\": \"white\", \"showbackground\": true, \"ticks\": \"\", \"zerolinecolor\": \"white\"}, \"yaxis\": {\"backgroundcolor\": \"#E5ECF6\", \"gridcolor\": \"white\", \"gridwidth\": 2, \"linecolor\": \"white\", \"showbackground\": true, \"ticks\": \"\", \"zerolinecolor\": \"white\"}, \"zaxis\": {\"backgroundcolor\": \"#E5ECF6\", \"gridcolor\": \"white\", \"gridwidth\": 2, \"linecolor\": \"white\", \"showbackground\": true, \"ticks\": \"\", \"zerolinecolor\": \"white\"}}, \"shapedefaults\": {\"line\": {\"color\": \"#2a3f5f\"}}, \"ternary\": {\"aaxis\": {\"gridcolor\": \"white\", \"linecolor\": \"white\", \"ticks\": \"\"}, \"baxis\": {\"gridcolor\": \"white\", \"linecolor\": \"white\", \"ticks\": \"\"}, \"bgcolor\": \"#E5ECF6\", \"caxis\": {\"gridcolor\": \"white\", \"linecolor\": \"white\", \"ticks\": \"\"}}, \"title\": {\"x\": 0.05}, \"xaxis\": {\"automargin\": true, \"gridcolor\": \"white\", \"linecolor\": \"white\", \"ticks\": \"\", \"title\": {\"standoff\": 15}, \"zerolinecolor\": \"white\", \"zerolinewidth\": 2}, \"yaxis\": {\"automargin\": true, \"gridcolor\": \"white\", \"linecolor\": \"white\", \"ticks\": \"\", \"title\": {\"standoff\": 15}, \"zerolinecolor\": \"white\", \"zerolinewidth\": 2}}}, \"title\": {\"font\": {\"color\": \"black\", \"size\": 15}, \"text\": \"Co-occurence of keywords from the NYC housing department's description of 311 complaint resolution\", \"x\": 0.1, \"y\": 0.9}, \"width\": 900, \"xaxis\": {\"showgrid\": false, \"showticklabels\": false, \"zeroline\": false}, \"yaxis\": {\"showgrid\": false, \"showticklabels\": false, \"zeroline\": false}},                        {\"responsive\": true}                    ).then(function(){\n",
       "                            \n",
       "var gd = document.getElementById('a2335b49-ae5b-4a5a-8871-4738d9560405');\n",
       "var x = new MutationObserver(function (mutations, observer) {{\n",
       "        var display = window.getComputedStyle(gd).display;\n",
       "        if (!display || display === 'none') {{\n",
       "            console.log([gd, 'removed!']);\n",
       "            Plotly.purge(gd);\n",
       "            observer.disconnect();\n",
       "        }}\n",
       "}});\n",
       "\n",
       "// Listen for the removal of the full notebook cells\n",
       "var notebookContainer = gd.closest('#notebook-container');\n",
       "if (notebookContainer) {{\n",
       "    x.observe(notebookContainer, {childList: true});\n",
       "}}\n",
       "\n",
       "// Listen for the clearing of the current output cell\n",
       "var outputEl = gd.closest('.output');\n",
       "if (outputEl) {{\n",
       "    x.observe(outputEl, {childList: true});\n",
       "}}\n",
       "\n",
       "                        })                };                });            </script>        </div>"
      ]
     },
     "metadata": {},
     "output_type": "display_data"
    }
   ],
   "source": [
    "layout = go.Layout(\n",
    "    paper_bgcolor='rgba(0,0,0,0)', # transparent background\n",
    "    plot_bgcolor='rgba(0,0,0,0)', # transparent 2nd background\n",
    "    xaxis =  {'showgrid': False, 'zeroline': False}, # no gridlines\n",
    "    yaxis = {'showgrid': False, 'zeroline': False}, # no gridlines\n",
    "    title = \"Co-occurence of keywords from the NYC housing department's description of 311 complaint resolution\",\n",
    "    title_font_color=\"black\",\n",
    "    title_font_size = 15,\n",
    "    title_x = .1,\n",
    "    title_y = .9,\n",
    "\n",
    ")\n",
    "\n",
    "# Create figure\n",
    "fig = go.Figure(layout = layout)\n",
    "\n",
    "# Add all edge traces\n",
    "for trace in edge_trace:\n",
    "    fig.add_trace(trace)\n",
    "    \n",
    "# Add node trace\n",
    "fig.add_trace(node_trace)\n",
    "\n",
    "# Remove legend\n",
    "fig.update_layout(showlegend = False, width = 900, height = 500)\n",
    "\n",
    "# Remove tick labels\n",
    "fig.update_xaxes(showticklabels = False)\n",
    "fig.update_yaxes(showticklabels = False)\n",
    "\n",
    "# Show figure\n",
    "fig.show()\n",
    "\n",
    "#Write to HTML\n",
    "fig.write_html('output/network_process_outcome_{}.html'.format(which_variable))"
   ]
  },
  {
   "cell_type": "code",
   "execution_count": 80,
   "metadata": {},
   "outputs": [
    {
     "data": {
      "text/plain": [
       "'https://plotly.com/~mhersher/11/'"
      ]
     },
     "execution_count": 80,
     "metadata": {},
     "output_type": "execute_result"
    }
   ],
   "source": [
    "py.plot(fig, filename = '311_network_process_outcome'.format(which_variable), auto_open=True)"
   ]
  },
  {
   "cell_type": "code",
   "execution_count": null,
   "metadata": {},
   "outputs": [],
   "source": []
  }
 ],
 "metadata": {
  "kernelspec": {
   "display_name": "py36",
   "language": "python",
   "name": "py36"
  },
  "language_info": {
   "codemirror_mode": {
    "name": "ipython",
    "version": 3
   },
   "file_extension": ".py",
   "mimetype": "text/x-python",
   "name": "python",
   "nbconvert_exporter": "python",
   "pygments_lexer": "ipython3",
   "version": "3.6.8"
  }
 },
 "nbformat": 4,
 "nbformat_minor": 2
}
